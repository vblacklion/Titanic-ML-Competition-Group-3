{
 "cells": [
  {
   "cell_type": "markdown",
   "metadata": {},
   "source": [
    "# Understanding your Data\n",
    "First we need to load our data and perform some basic analysis to understand it. This is called Exploratory Data Analysis in short EDA. We need pandas library for loading our data."
   ]
  },
  {
   "cell_type": "markdown",
   "metadata": {},
   "source": [
    "## Importing necessary libraries and moduls"
   ]
  },
  {
   "cell_type": "code",
   "execution_count": 1,
   "metadata": {},
   "outputs": [],
   "source": [
    "import pandas as pd\n",
    "import numpy as np\n",
    "import re\n",
    "import seaborn as sns\n",
    "import matplotlib.pyplot as plt\n",
    "from matplotlib import cm\n",
    "from IPython.display import display\n",
    "pd.options.display.max_columns = None\n",
    "pd.options.display.max_rows = None"
   ]
  },
  {
   "cell_type": "code",
   "execution_count": 3,
   "metadata": {},
   "outputs": [],
   "source": [
    "# Seaborn settings\n",
    "#sns.set(style='whitegrid', rc={\"grid.linewidth\": 0.1}) # plt.style.use('bmh')\n",
    "sns.set_context(\"paper\", font_scale=2)  #rc={\"font.size\":52,\"axes.titlesize\":15,\"axes.labelsize\":22}font_scale=2,\n",
    "#plt.figure(figsize=(3.1, 3)) # Two column paper. Each column is about 3.15 inch wide.\n",
    "color = sns.color_palette(\"Set2\", 6) \n",
    "# Available seaborn palette names: deep, muted, bright, pastel, dark, colorblind\n",
    "# Other options: name of matplotlib cmap, 'hls', 'husl', or a list of colors in any format matplotlib accepts\n",
    "%matplotlib inline"
   ]
  },
  {
   "cell_type": "code",
   "execution_count": 4,
   "metadata": {},
   "outputs": [],
   "source": [
    "train_df = pd.read_csv(\"DataSets/train.csv\")\n",
    "test_df = pd.read_csv(\"DataSets/test.csv\")"
   ]
  },
  {
   "cell_type": "code",
   "execution_count": 5,
   "metadata": {},
   "outputs": [],
   "source": [
    "row1 = \"p\"\n",
    "row2 = \"y\"\n",
    "row3 = \"t\"\n",
    "row4 = \"h\"\n",
    "row5 = \"o\"\n",
    "row6 = \"n\""
   ]
  },
  {
   "cell_type": "code",
   "execution_count": 6,
   "metadata": {},
   "outputs": [],
   "source": [
    " rows= [\"p\", \"y\", \"t\", \"h\", \"o\", \"n\"]"
   ]
  },
  {
   "cell_type": "code",
   "execution_count": 7,
   "metadata": {},
   "outputs": [
    {
     "name": "stdout",
     "output_type": "stream",
     "text": [
      "p\n",
      "y\n",
      "t\n",
      "h\n",
      "o\n",
      "n\n"
     ]
    }
   ],
   "source": [
    "for number in range(1,7):\n",
    "    print(eval(\"row\"+str(number)))"
   ]
  },
  {
   "cell_type": "code",
   "execution_count": 8,
   "metadata": {},
   "outputs": [
    {
     "name": "stdout",
     "output_type": "stream",
     "text": [
      "There are 891 rows and 12 columns in train data.\n",
      "There are 418 rows and 11 columns in test data.\n",
      "There are 1309 rows and 12 columns in total data.\n"
     ]
    }
   ],
   "source": [
    "row1, col1 = train_df.shape\n",
    "row2, col2 = test_df.shape\n",
    "total_rows = row3 = row1 + row2 \n",
    "col3 = col1\n",
    "for row, data in zip(range(1,4),[\"train\", \"test\", \"total\"]):\n",
    "    print(\"There are {} rows and {} columns in {} data.\".format(eval(\"row\"+str(row)), eval(\"col\"+str(row)), data))"
   ]
  },
  {
   "cell_type": "markdown",
   "metadata": {},
   "source": [
    "## Exploratory Data Analysis (EDA)"
   ]
  },
  {
   "cell_type": "code",
   "execution_count": 9,
   "metadata": {},
   "outputs": [
    {
     "name": "stdout",
     "output_type": "stream",
     "text": [
      "<class 'pandas.core.frame.DataFrame'>\n",
      "RangeIndex: 891 entries, 0 to 890\n",
      "Data columns (total 12 columns):\n",
      " #   Column       Non-Null Count  Dtype  \n",
      "---  ------       --------------  -----  \n",
      " 0   PassengerId  891 non-null    int64  \n",
      " 1   Survived     891 non-null    int64  \n",
      " 2   Pclass       891 non-null    int64  \n",
      " 3   Name         891 non-null    object \n",
      " 4   Sex          891 non-null    object \n",
      " 5   Age          714 non-null    float64\n",
      " 6   SibSp        891 non-null    int64  \n",
      " 7   Parch        891 non-null    int64  \n",
      " 8   Ticket       891 non-null    object \n",
      " 9   Fare         891 non-null    float64\n",
      " 10  Cabin        204 non-null    object \n",
      " 11  Embarked     889 non-null    object \n",
      "dtypes: float64(2), int64(5), object(5)\n",
      "memory usage: 83.7+ KB\n"
     ]
    }
   ],
   "source": [
    "train_df.info()"
   ]
  },
  {
   "cell_type": "code",
   "execution_count": 10,
   "metadata": {},
   "outputs": [
    {
     "data": {
      "text/html": [
       "<div>\n",
       "<style scoped>\n",
       "    .dataframe tbody tr th:only-of-type {\n",
       "        vertical-align: middle;\n",
       "    }\n",
       "\n",
       "    .dataframe tbody tr th {\n",
       "        vertical-align: top;\n",
       "    }\n",
       "\n",
       "    .dataframe thead th {\n",
       "        text-align: right;\n",
       "    }\n",
       "</style>\n",
       "<table border=\"1\" class=\"dataframe\">\n",
       "  <thead>\n",
       "    <tr style=\"text-align: right;\">\n",
       "      <th></th>\n",
       "      <th>PassengerId</th>\n",
       "      <th>Survived</th>\n",
       "      <th>Pclass</th>\n",
       "      <th>Name</th>\n",
       "      <th>Sex</th>\n",
       "      <th>Age</th>\n",
       "      <th>SibSp</th>\n",
       "      <th>Parch</th>\n",
       "      <th>Ticket</th>\n",
       "      <th>Fare</th>\n",
       "      <th>Cabin</th>\n",
       "      <th>Embarked</th>\n",
       "    </tr>\n",
       "  </thead>\n",
       "  <tbody>\n",
       "    <tr>\n",
       "      <th>False</th>\n",
       "      <td>891.0</td>\n",
       "      <td>891.0</td>\n",
       "      <td>891.0</td>\n",
       "      <td>891.0</td>\n",
       "      <td>891.0</td>\n",
       "      <td>714</td>\n",
       "      <td>891.0</td>\n",
       "      <td>891.0</td>\n",
       "      <td>891.0</td>\n",
       "      <td>891.0</td>\n",
       "      <td>204</td>\n",
       "      <td>889</td>\n",
       "    </tr>\n",
       "    <tr>\n",
       "      <th>True</th>\n",
       "      <td>NaN</td>\n",
       "      <td>NaN</td>\n",
       "      <td>NaN</td>\n",
       "      <td>NaN</td>\n",
       "      <td>NaN</td>\n",
       "      <td>177</td>\n",
       "      <td>NaN</td>\n",
       "      <td>NaN</td>\n",
       "      <td>NaN</td>\n",
       "      <td>NaN</td>\n",
       "      <td>687</td>\n",
       "      <td>2</td>\n",
       "    </tr>\n",
       "  </tbody>\n",
       "</table>\n",
       "</div>"
      ],
      "text/plain": [
       "       PassengerId  Survived  Pclass   Name    Sex  Age  SibSp  Parch  Ticket  \\\n",
       "False        891.0     891.0   891.0  891.0  891.0  714  891.0  891.0   891.0   \n",
       "True           NaN       NaN     NaN    NaN    NaN  177    NaN    NaN     NaN   \n",
       "\n",
       "        Fare  Cabin  Embarked  \n",
       "False  891.0    204       889  \n",
       "True     NaN    687         2  "
      ]
     },
     "execution_count": 10,
     "metadata": {},
     "output_type": "execute_result"
    }
   ],
   "source": [
    "train_df.isna().apply(pd.value_counts)"
   ]
  },
  {
   "cell_type": "code",
   "execution_count": 11,
   "metadata": {},
   "outputs": [
    {
     "data": {
      "text/plain": [
       "PassengerId      0\n",
       "Survived         0\n",
       "Pclass           0\n",
       "Name             0\n",
       "Sex              0\n",
       "Age            177\n",
       "SibSp            0\n",
       "Parch            0\n",
       "Ticket           0\n",
       "Fare             0\n",
       "Cabin          687\n",
       "Embarked         2\n",
       "dtype: int64"
      ]
     },
     "execution_count": 11,
     "metadata": {},
     "output_type": "execute_result"
    }
   ],
   "source": [
    "train_df.isnull().sum()"
   ]
  },
  {
   "cell_type": "markdown",
   "metadata": {},
   "source": [
    "1. There are too many missing values in Cabin Column. It could be dropped.\n",
    "2. Age, Fare and Embarked columns have also some missing values. But they could be easily filled."
   ]
  },
  {
   "cell_type": "code",
   "execution_count": 12,
   "metadata": {},
   "outputs": [
    {
     "data": {
      "text/plain": [
       "PassengerId      0\n",
       "Pclass           0\n",
       "Name             0\n",
       "Sex              0\n",
       "Age             86\n",
       "SibSp            0\n",
       "Parch            0\n",
       "Ticket           0\n",
       "Fare             1\n",
       "Cabin          327\n",
       "Embarked         0\n",
       "dtype: int64"
      ]
     },
     "execution_count": 12,
     "metadata": {},
     "output_type": "execute_result"
    }
   ],
   "source": [
    "test_df.isnull().sum()"
   ]
  },
  {
   "cell_type": "code",
   "execution_count": 13,
   "metadata": {},
   "outputs": [
    {
     "data": {
      "text/html": [
       "<div>\n",
       "<style scoped>\n",
       "    .dataframe tbody tr th:only-of-type {\n",
       "        vertical-align: middle;\n",
       "    }\n",
       "\n",
       "    .dataframe tbody tr th {\n",
       "        vertical-align: top;\n",
       "    }\n",
       "\n",
       "    .dataframe thead th {\n",
       "        text-align: right;\n",
       "    }\n",
       "</style>\n",
       "<table border=\"1\" class=\"dataframe\">\n",
       "  <thead>\n",
       "    <tr style=\"text-align: right;\">\n",
       "      <th></th>\n",
       "      <th>PassengerId</th>\n",
       "      <th>Survived</th>\n",
       "      <th>Pclass</th>\n",
       "      <th>Age</th>\n",
       "      <th>SibSp</th>\n",
       "      <th>Parch</th>\n",
       "      <th>Fare</th>\n",
       "    </tr>\n",
       "  </thead>\n",
       "  <tbody>\n",
       "    <tr>\n",
       "      <th>count</th>\n",
       "      <td>891.000000</td>\n",
       "      <td>891.000000</td>\n",
       "      <td>891.000000</td>\n",
       "      <td>714.000000</td>\n",
       "      <td>891.000000</td>\n",
       "      <td>891.000000</td>\n",
       "      <td>891.000000</td>\n",
       "    </tr>\n",
       "    <tr>\n",
       "      <th>mean</th>\n",
       "      <td>446.000000</td>\n",
       "      <td>0.383838</td>\n",
       "      <td>2.308642</td>\n",
       "      <td>29.699118</td>\n",
       "      <td>0.523008</td>\n",
       "      <td>0.381594</td>\n",
       "      <td>32.204208</td>\n",
       "    </tr>\n",
       "    <tr>\n",
       "      <th>std</th>\n",
       "      <td>257.353842</td>\n",
       "      <td>0.486592</td>\n",
       "      <td>0.836071</td>\n",
       "      <td>14.526497</td>\n",
       "      <td>1.102743</td>\n",
       "      <td>0.806057</td>\n",
       "      <td>49.693429</td>\n",
       "    </tr>\n",
       "    <tr>\n",
       "      <th>min</th>\n",
       "      <td>1.000000</td>\n",
       "      <td>0.000000</td>\n",
       "      <td>1.000000</td>\n",
       "      <td>0.420000</td>\n",
       "      <td>0.000000</td>\n",
       "      <td>0.000000</td>\n",
       "      <td>0.000000</td>\n",
       "    </tr>\n",
       "    <tr>\n",
       "      <th>25%</th>\n",
       "      <td>223.500000</td>\n",
       "      <td>0.000000</td>\n",
       "      <td>2.000000</td>\n",
       "      <td>20.125000</td>\n",
       "      <td>0.000000</td>\n",
       "      <td>0.000000</td>\n",
       "      <td>7.910400</td>\n",
       "    </tr>\n",
       "    <tr>\n",
       "      <th>50%</th>\n",
       "      <td>446.000000</td>\n",
       "      <td>0.000000</td>\n",
       "      <td>3.000000</td>\n",
       "      <td>28.000000</td>\n",
       "      <td>0.000000</td>\n",
       "      <td>0.000000</td>\n",
       "      <td>14.454200</td>\n",
       "    </tr>\n",
       "    <tr>\n",
       "      <th>75%</th>\n",
       "      <td>668.500000</td>\n",
       "      <td>1.000000</td>\n",
       "      <td>3.000000</td>\n",
       "      <td>38.000000</td>\n",
       "      <td>1.000000</td>\n",
       "      <td>0.000000</td>\n",
       "      <td>31.000000</td>\n",
       "    </tr>\n",
       "    <tr>\n",
       "      <th>max</th>\n",
       "      <td>891.000000</td>\n",
       "      <td>1.000000</td>\n",
       "      <td>3.000000</td>\n",
       "      <td>80.000000</td>\n",
       "      <td>8.000000</td>\n",
       "      <td>6.000000</td>\n",
       "      <td>512.329200</td>\n",
       "    </tr>\n",
       "  </tbody>\n",
       "</table>\n",
       "</div>"
      ],
      "text/plain": [
       "       PassengerId    Survived      Pclass         Age       SibSp  \\\n",
       "count   891.000000  891.000000  891.000000  714.000000  891.000000   \n",
       "mean    446.000000    0.383838    2.308642   29.699118    0.523008   \n",
       "std     257.353842    0.486592    0.836071   14.526497    1.102743   \n",
       "min       1.000000    0.000000    1.000000    0.420000    0.000000   \n",
       "25%     223.500000    0.000000    2.000000   20.125000    0.000000   \n",
       "50%     446.000000    0.000000    3.000000   28.000000    0.000000   \n",
       "75%     668.500000    1.000000    3.000000   38.000000    1.000000   \n",
       "max     891.000000    1.000000    3.000000   80.000000    8.000000   \n",
       "\n",
       "            Parch        Fare  \n",
       "count  891.000000  891.000000  \n",
       "mean     0.381594   32.204208  \n",
       "std      0.806057   49.693429  \n",
       "min      0.000000    0.000000  \n",
       "25%      0.000000    7.910400  \n",
       "50%      0.000000   14.454200  \n",
       "75%      0.000000   31.000000  \n",
       "max      6.000000  512.329200  "
      ]
     },
     "execution_count": 13,
     "metadata": {},
     "output_type": "execute_result"
    }
   ],
   "source": [
    "train_df.describe()"
   ]
  },
  {
   "cell_type": "code",
   "execution_count": 14,
   "metadata": {},
   "outputs": [
    {
     "data": {
      "image/png": "[encoded data removed]",
      "text/plain": [
       "<Figure size 1440x576 with 2 Axes>"
      ]
     },
     "metadata": {
      "needs_background": "light"
     },
     "output_type": "display_data"
    }
   ],
   "source": [
    "values= list(train_df[\"Sex\"].value_counts())\n",
    "def pie_values(pct, values):\n",
    "    value = int(pct/100.*np.sum(values))\n",
    "    return \"{:.1f}%\\n{:d}\".format(pct, value)\n",
    "\n",
    "plt.figure(figsize=(20, 8))\n",
    "plt.subplot(121)\n",
    "train_df[\"Sex\"].value_counts().plot.pie(autopct=lambda pct: pie_values(pct, values),\n",
    "                                           title=\"Percentage of passengers per Sex\",\n",
    "                                           textprops={'fontsize': 15})\n",
    "\n",
    "plt.ylabel(\"\")\n",
    "plt.subplot(122)\n",
    "ax = sns.countplot(x=\"Survived\", hue=\"Sex\", data=train_df)\n",
    "plt.title(\"Number of Male and Female passengers by Survival\")\n",
    "for p in ax.patches:\n",
    "    ax.annotate((p.get_height()), (p.get_x()+0.15, p.get_height()+0.7), size=15)"
   ]
  },
  {
   "cell_type": "markdown",
   "metadata": {},
   "source": [
    "1. 577 passengers (%65) were male and 314 passengers (%35) were female. \n",
    "2. According to the training data females are most likely to survive."
   ]
  },
  {
   "cell_type": "code",
   "execution_count": 15,
   "metadata": {
    "scrolled": false
   },
   "outputs": [
    {
     "data": {
      "image/png": "[encoded data removed]",
      "text/plain": [
       "<Figure size 1440x576 with 2 Axes>"
      ]
     },
     "metadata": {
      "needs_background": "light"
     },
     "output_type": "display_data"
    }
   ],
   "source": [
    "values= list(train_df[\"Pclass\"].value_counts())\n",
    "def pie_values(pct, values):\n",
    "    value = int(pct/100.*np.sum(values))\n",
    "    return \"{:.1f}%\\n{:d}\".format(pct, value)\n",
    "\n",
    "plt.figure(figsize=(20, 8))\n",
    "plt.subplot(121)\n",
    "train_df[\"Pclass\"].value_counts().plot.pie(autopct=lambda pct: pie_values(pct, values),\n",
    "                                           title=\"Percentage of passengers per Class\",\n",
    "                                           textprops={'fontsize': 15})\n",
    "plt.ylabel(\"\")\n",
    "plt.subplot(122)\n",
    "ax = sns.countplot(x=\"Survived\", hue=\"Pclass\", data=train_df, hue_order=[3,1,2])\n",
    "plt.title(\"Number of Passenger Classes by Survival\")\n",
    "plt.xlabel(\"Survived or Not\")\n",
    "for p in ax.patches:\n",
    "    ax.annotate((p.get_height()), (p.get_x()+0.10, p.get_height()+0.7), size=15)"
   ]
  },
  {
   "cell_type": "markdown",
   "metadata": {},
   "source": [
    "1. More than half of the total passengers (491 - %55) are 3rd Class.\n",
    "2. According to the training data most of the 3rd Class passengers are not survived."
   ]
  },
  {
   "cell_type": "code",
   "execution_count": 16,
   "metadata": {},
   "outputs": [
    {
     "data": {
      "image/png": "[encoded data removed]",
      "text/plain": [
       "<Figure size 1440x576 with 2 Axes>"
      ]
     },
     "metadata": {
      "needs_background": "light"
     },
     "output_type": "display_data"
    }
   ],
   "source": [
    "survived = 'survived'\n",
    "not_survived = 'not survived'\n",
    "fig, axes = plt.subplots(nrows=1, ncols=2,figsize=(20, 8))\n",
    "women = train_df[train_df['Sex']=='female']\n",
    "men = train_df[train_df['Sex']=='male']\n",
    "ax = sns.distplot(women[women['Survived']==1].Age.dropna(), bins=18, label = survived, ax = axes[0], kde =False)\n",
    "ax = sns.distplot(women[women['Survived']==0].Age.dropna(), bins=40, label = not_survived, ax = axes[0], kde =False)\n",
    "ax.legend()\n",
    "ax.set_title('Female')\n",
    "ax = sns.distplot(men[men['Survived']==1].Age.dropna(), bins=18, label = survived, ax = axes[1], kde = False)\n",
    "ax = sns.distplot(men[men['Survived']==0].Age.dropna(), bins=40, label = not_survived, ax = axes[1], kde = False)\n",
    "ax.legend()\n",
    "_ = ax.set_title('Male')"
   ]
  },
  {
   "cell_type": "markdown",
   "metadata": {},
   "source": [
    "## Dealing with Missing Values"
   ]
  },
  {
   "cell_type": "markdown",
   "metadata": {},
   "source": [
    "### Embarked Column"
   ]
  },
  {
   "cell_type": "code",
   "execution_count": null,
   "metadata": {},
   "outputs": [],
   "source": [
    "train_df"
   ]
  },
  {
   "cell_type": "code",
   "execution_count": 17,
   "metadata": {
    "scrolled": true
   },
   "outputs": [
    {
     "data": {
      "text/html": [
       "<div>\n",
       "<style scoped>\n",
       "    .dataframe tbody tr th:only-of-type {\n",
       "        vertical-align: middle;\n",
       "    }\n",
       "\n",
       "    .dataframe tbody tr th {\n",
       "        vertical-align: top;\n",
       "    }\n",
       "\n",
       "    .dataframe thead th {\n",
       "        text-align: right;\n",
       "    }\n",
       "</style>\n",
       "<table border=\"1\" class=\"dataframe\">\n",
       "  <thead>\n",
       "    <tr style=\"text-align: right;\">\n",
       "      <th></th>\n",
       "      <th>PassengerId</th>\n",
       "      <th>Survived</th>\n",
       "      <th>Pclass</th>\n",
       "      <th>Name</th>\n",
       "      <th>Sex</th>\n",
       "      <th>Age</th>\n",
       "      <th>SibSp</th>\n",
       "      <th>Parch</th>\n",
       "      <th>Ticket</th>\n",
       "      <th>Fare</th>\n",
       "      <th>Cabin</th>\n",
       "      <th>Embarked</th>\n",
       "    </tr>\n",
       "  </thead>\n",
       "  <tbody>\n",
       "    <tr>\n",
       "      <th>61</th>\n",
       "      <td>62</td>\n",
       "      <td>1</td>\n",
       "      <td>1</td>\n",
       "      <td>Icard, Miss. Amelie</td>\n",
       "      <td>female</td>\n",
       "      <td>38.0</td>\n",
       "      <td>0</td>\n",
       "      <td>0</td>\n",
       "      <td>113572</td>\n",
       "      <td>80.0</td>\n",
       "      <td>B28</td>\n",
       "      <td>NaN</td>\n",
       "    </tr>\n",
       "    <tr>\n",
       "      <th>829</th>\n",
       "      <td>830</td>\n",
       "      <td>1</td>\n",
       "      <td>1</td>\n",
       "      <td>Stone, Mrs. George Nelson (Martha Evelyn)</td>\n",
       "      <td>female</td>\n",
       "      <td>62.0</td>\n",
       "      <td>0</td>\n",
       "      <td>0</td>\n",
       "      <td>113572</td>\n",
       "      <td>80.0</td>\n",
       "      <td>B28</td>\n",
       "      <td>NaN</td>\n",
       "    </tr>\n",
       "  </tbody>\n",
       "</table>\n",
       "</div>"
      ],
      "text/plain": [
       "     PassengerId  Survived  Pclass                                       Name  \\\n",
       "61            62         1       1                        Icard, Miss. Amelie   \n",
       "829          830         1       1  Stone, Mrs. George Nelson (Martha Evelyn)   \n",
       "\n",
       "        Sex   Age  SibSp  Parch  Ticket  Fare Cabin Embarked  \n",
       "61   female  38.0      0      0  113572  80.0   B28      NaN  \n",
       "829  female  62.0      0      0  113572  80.0   B28      NaN  "
      ]
     },
     "execution_count": 17,
     "metadata": {},
     "output_type": "execute_result"
    }
   ],
   "source": [
    "train_df[train_df.Embarked.isnull()]"
   ]
  },
  {
   "cell_type": "code",
   "execution_count": 33,
   "metadata": {
    "collapsed": true
   },
   "outputs": [
    {
     "data": {
      "text/plain": [
       "0                  NaN\n",
       "1                  C85\n",
       "2                  NaN\n",
       "3                 C123\n",
       "4                  NaN\n",
       "5                  NaN\n",
       "6                  E46\n",
       "7                  NaN\n",
       "8                  NaN\n",
       "9                  NaN\n",
       "10                  G6\n",
       "11                C103\n",
       "12                 NaN\n",
       "13                 NaN\n",
       "14                 NaN\n",
       "15                 NaN\n",
       "16                 NaN\n",
       "17                 NaN\n",
       "18                 NaN\n",
       "19                 NaN\n",
       "20                 NaN\n",
       "21                 D56\n",
       "22                 NaN\n",
       "23                  A6\n",
       "24                 NaN\n",
       "25                 NaN\n",
       "26                 NaN\n",
       "27         C23 C25 C27\n",
       "28                 NaN\n",
       "29                 NaN\n",
       "30                 NaN\n",
       "31                 B78\n",
       "32                 NaN\n",
       "33                 NaN\n",
       "34                 NaN\n",
       "35                 NaN\n",
       "36                 NaN\n",
       "37                 NaN\n",
       "38                 NaN\n",
       "39                 NaN\n",
       "40                 NaN\n",
       "41                 NaN\n",
       "42                 NaN\n",
       "43                 NaN\n",
       "44                 NaN\n",
       "45                 NaN\n",
       "46                 NaN\n",
       "47                 NaN\n",
       "48                 NaN\n",
       "49                 NaN\n",
       "50                 NaN\n",
       "51                 NaN\n",
       "52                 D33\n",
       "53                 NaN\n",
       "54                 B30\n",
       "55                 C52\n",
       "56                 NaN\n",
       "57                 NaN\n",
       "58                 NaN\n",
       "59                 NaN\n",
       "60                 NaN\n",
       "61                 B28\n",
       "62                 C83\n",
       "63                 NaN\n",
       "64                 NaN\n",
       "65                 NaN\n",
       "66                 F33\n",
       "67                 NaN\n",
       "68                 NaN\n",
       "69                 NaN\n",
       "70                 NaN\n",
       "71                 NaN\n",
       "72                 NaN\n",
       "73                 NaN\n",
       "74                 NaN\n",
       "75               F G73\n",
       "76                 NaN\n",
       "77                 NaN\n",
       "78                 NaN\n",
       "79                 NaN\n",
       "80                 NaN\n",
       "81                 NaN\n",
       "82                 NaN\n",
       "83                 NaN\n",
       "84                 NaN\n",
       "85                 NaN\n",
       "86                 NaN\n",
       "87                 NaN\n",
       "88         C23 C25 C27\n",
       "89                 NaN\n",
       "90                 NaN\n",
       "91                 NaN\n",
       "92                 E31\n",
       "93                 NaN\n",
       "94                 NaN\n",
       "95                 NaN\n",
       "96                  A5\n",
       "97             D10 D12\n",
       "98                 NaN\n",
       "99                 NaN\n",
       "100                NaN\n",
       "101                NaN\n",
       "102                D26\n",
       "103                NaN\n",
       "104                NaN\n",
       "105                NaN\n",
       "106                NaN\n",
       "107                NaN\n",
       "108                NaN\n",
       "109                NaN\n",
       "110               C110\n",
       "111                NaN\n",
       "112                NaN\n",
       "113                NaN\n",
       "114                NaN\n",
       "115                NaN\n",
       "116                NaN\n",
       "117                NaN\n",
       "118            B58 B60\n",
       "119                NaN\n",
       "120                NaN\n",
       "121                NaN\n",
       "122                NaN\n",
       "123               E101\n",
       "124                D26\n",
       "125                NaN\n",
       "126                NaN\n",
       "127                NaN\n",
       "128              F E69\n",
       "129                NaN\n",
       "130                NaN\n",
       "131                NaN\n",
       "132                NaN\n",
       "133                NaN\n",
       "134                NaN\n",
       "135                NaN\n",
       "136                D47\n",
       "137               C123\n",
       "138                NaN\n",
       "139                B86\n",
       "140                NaN\n",
       "141                NaN\n",
       "142                NaN\n",
       "143                NaN\n",
       "144                NaN\n",
       "145                NaN\n",
       "146                NaN\n",
       "147                NaN\n",
       "148                 F2\n",
       "149                NaN\n",
       "150                NaN\n",
       "151                 C2\n",
       "152                NaN\n",
       "153                NaN\n",
       "154                NaN\n",
       "155                NaN\n",
       "156                NaN\n",
       "157                NaN\n",
       "158                NaN\n",
       "159                NaN\n",
       "160                NaN\n",
       "161                NaN\n",
       "162                NaN\n",
       "163                NaN\n",
       "164                NaN\n",
       "165                NaN\n",
       "166                E33\n",
       "167                NaN\n",
       "168                NaN\n",
       "169                NaN\n",
       "170                B19\n",
       "171                NaN\n",
       "172                NaN\n",
       "173                NaN\n",
       "174                 A7\n",
       "175                NaN\n",
       "176                NaN\n",
       "177                C49\n",
       "178                NaN\n",
       "179                NaN\n",
       "180                NaN\n",
       "181                NaN\n",
       "182                NaN\n",
       "183                 F4\n",
       "184                NaN\n",
       "185                A32\n",
       "186                NaN\n",
       "187                NaN\n",
       "188                NaN\n",
       "189                NaN\n",
       "190                NaN\n",
       "191                NaN\n",
       "192                NaN\n",
       "193                 F2\n",
       "194                 B4\n",
       "195                B80\n",
       "196                NaN\n",
       "197                NaN\n",
       "198                NaN\n",
       "199                NaN\n",
       "200                NaN\n",
       "201                NaN\n",
       "202                NaN\n",
       "203                NaN\n",
       "204                NaN\n",
       "205                 G6\n",
       "206                NaN\n",
       "207                NaN\n",
       "208                NaN\n",
       "209                A31\n",
       "210                NaN\n",
       "211                NaN\n",
       "212                NaN\n",
       "213                NaN\n",
       "214                NaN\n",
       "215                D36\n",
       "216                NaN\n",
       "217                NaN\n",
       "218                D15\n",
       "219                NaN\n",
       "220                NaN\n",
       "221                NaN\n",
       "222                NaN\n",
       "223                NaN\n",
       "224                C93\n",
       "225                NaN\n",
       "226                NaN\n",
       "227                NaN\n",
       "228                NaN\n",
       "229                NaN\n",
       "230                C83\n",
       "231                NaN\n",
       "232                NaN\n",
       "233                NaN\n",
       "234                NaN\n",
       "235                NaN\n",
       "236                NaN\n",
       "237                NaN\n",
       "238                NaN\n",
       "239                NaN\n",
       "240                NaN\n",
       "241                NaN\n",
       "242                NaN\n",
       "243                NaN\n",
       "244                NaN\n",
       "245                C78\n",
       "246                NaN\n",
       "247                NaN\n",
       "248                D35\n",
       "249                NaN\n",
       "250                NaN\n",
       "251                 G6\n",
       "252                C87\n",
       "253                NaN\n",
       "254                NaN\n",
       "255                NaN\n",
       "256                NaN\n",
       "257                B77\n",
       "258                NaN\n",
       "259                NaN\n",
       "260                NaN\n",
       "261                NaN\n",
       "262                E67\n",
       "263                B94\n",
       "264                NaN\n",
       "265                NaN\n",
       "266                NaN\n",
       "267                NaN\n",
       "268               C125\n",
       "269                C99\n",
       "270                NaN\n",
       "271                NaN\n",
       "272                NaN\n",
       "273               C118\n",
       "274                NaN\n",
       "275                 D7\n",
       "276                NaN\n",
       "277                NaN\n",
       "278                NaN\n",
       "279                NaN\n",
       "280                NaN\n",
       "281                NaN\n",
       "282                NaN\n",
       "283                NaN\n",
       "284                A19\n",
       "285                NaN\n",
       "286                NaN\n",
       "287                NaN\n",
       "288                NaN\n",
       "289                NaN\n",
       "290                NaN\n",
       "291                B49\n",
       "292                  D\n",
       "293                NaN\n",
       "294                NaN\n",
       "295                NaN\n",
       "296                NaN\n",
       "297            C22 C26\n",
       "298               C106\n",
       "299            B58 B60\n",
       "300                NaN\n",
       "301                NaN\n",
       "302                NaN\n",
       "303               E101\n",
       "304                NaN\n",
       "305            C22 C26\n",
       "306                NaN\n",
       "307                C65\n",
       "308                NaN\n",
       "309                E36\n",
       "310                C54\n",
       "311    B57 B59 B63 B66\n",
       "312                NaN\n",
       "313                NaN\n",
       "314                NaN\n",
       "315                NaN\n",
       "316                NaN\n",
       "317                NaN\n",
       "318                 C7\n",
       "319                E34\n",
       "320                NaN\n",
       "321                NaN\n",
       "322                NaN\n",
       "323                NaN\n",
       "324                NaN\n",
       "325                C32\n",
       "326                NaN\n",
       "327                  D\n",
       "328                NaN\n",
       "329                B18\n",
       "330                NaN\n",
       "331               C124\n",
       "332                C91\n",
       "333                NaN\n",
       "334                NaN\n",
       "335                NaN\n",
       "336                 C2\n",
       "337                E40\n",
       "338                NaN\n",
       "339                  T\n",
       "340                 F2\n",
       "341        C23 C25 C27\n",
       "342                NaN\n",
       "343                NaN\n",
       "344                NaN\n",
       "345                F33\n",
       "346                NaN\n",
       "347                NaN\n",
       "348                NaN\n",
       "349                NaN\n",
       "350                NaN\n",
       "351               C128\n",
       "352                NaN\n",
       "353                NaN\n",
       "354                NaN\n",
       "355                NaN\n",
       "356                E33\n",
       "357                NaN\n",
       "358                NaN\n",
       "359                NaN\n",
       "360                NaN\n",
       "361                NaN\n",
       "362                NaN\n",
       "363                NaN\n",
       "364                NaN\n",
       "365                NaN\n",
       "366                D37\n",
       "367                NaN\n",
       "368                NaN\n",
       "369                B35\n",
       "370                E50\n",
       "371                NaN\n",
       "372                NaN\n",
       "373                NaN\n",
       "374                NaN\n",
       "375                NaN\n",
       "376                NaN\n",
       "377                C82\n",
       "378                NaN\n",
       "379                NaN\n",
       "380                NaN\n",
       "381                NaN\n",
       "382                NaN\n",
       "383                NaN\n",
       "384                NaN\n",
       "385                NaN\n",
       "386                NaN\n",
       "387                NaN\n",
       "388                NaN\n",
       "389                NaN\n",
       "390            B96 B98\n",
       "391                NaN\n",
       "392                NaN\n",
       "393                D36\n",
       "394                 G6\n",
       "395                NaN\n",
       "396                NaN\n",
       "397                NaN\n",
       "398                NaN\n",
       "399                NaN\n",
       "400                NaN\n",
       "401                NaN\n",
       "402                NaN\n",
       "403                NaN\n",
       "404                NaN\n",
       "405                NaN\n",
       "406                NaN\n",
       "407                NaN\n",
       "408                NaN\n",
       "409                NaN\n",
       "410                NaN\n",
       "411                NaN\n",
       "412                C78\n",
       "413                NaN\n",
       "414                NaN\n",
       "415                NaN\n",
       "416                NaN\n",
       "417                NaN\n",
       "418                NaN\n",
       "419                NaN\n",
       "420                NaN\n",
       "421                NaN\n",
       "422                NaN\n",
       "423                NaN\n",
       "424                NaN\n",
       "425                NaN\n",
       "426                NaN\n",
       "427                NaN\n",
       "428                NaN\n",
       "429                E10\n",
       "430                C52\n",
       "431                NaN\n",
       "432                NaN\n",
       "433                NaN\n",
       "434                E44\n",
       "435            B96 B98\n",
       "436                NaN\n",
       "437                NaN\n",
       "438        C23 C25 C27\n",
       "439                NaN\n",
       "440                NaN\n",
       "441                NaN\n",
       "442                NaN\n",
       "443                NaN\n",
       "444                NaN\n",
       "445                A34\n",
       "446                NaN\n",
       "447                NaN\n",
       "448                NaN\n",
       "449               C104\n",
       "450                NaN\n",
       "451                NaN\n",
       "452               C111\n",
       "453                C92\n",
       "454                NaN\n",
       "455                NaN\n",
       "456                E38\n",
       "457                D21\n",
       "458                NaN\n",
       "459                NaN\n",
       "460                E12\n",
       "461                NaN\n",
       "462                E63\n",
       "463                NaN\n",
       "464                NaN\n",
       "465                NaN\n",
       "466                NaN\n",
       "467                NaN\n",
       "468                NaN\n",
       "469                NaN\n",
       "470                NaN\n",
       "471                NaN\n",
       "472                NaN\n",
       "473                  D\n",
       "474                NaN\n",
       "475                A14\n",
       "476                NaN\n",
       "477                NaN\n",
       "478                NaN\n",
       "479                NaN\n",
       "480                NaN\n",
       "481                NaN\n",
       "482                NaN\n",
       "483                NaN\n",
       "484                B49\n",
       "485                NaN\n",
       "486                C93\n",
       "487                B37\n",
       "488                NaN\n",
       "489                NaN\n",
       "490                NaN\n",
       "491                NaN\n",
       "492                C30\n",
       "493                NaN\n",
       "494                NaN\n",
       "495                NaN\n",
       "496                D20\n",
       "497                NaN\n",
       "498            C22 C26\n",
       "499                NaN\n",
       "500                NaN\n",
       "501                NaN\n",
       "502                NaN\n",
       "503                NaN\n",
       "504                B79\n",
       "505                C65\n",
       "506                NaN\n",
       "507                NaN\n",
       "508                NaN\n",
       "509                NaN\n",
       "510                NaN\n",
       "511                NaN\n",
       "512                E25\n",
       "513                NaN\n",
       "514                NaN\n",
       "515                D46\n",
       "516                F33\n",
       "517                NaN\n",
       "518                NaN\n",
       "519                NaN\n",
       "520                B73\n",
       "521                NaN\n",
       "522                NaN\n",
       "523                B18\n",
       "524                NaN\n",
       "525                NaN\n",
       "526                NaN\n",
       "527                C95\n",
       "528                NaN\n",
       "529                NaN\n",
       "530                NaN\n",
       "531                NaN\n",
       "532                NaN\n",
       "533                NaN\n",
       "534                NaN\n",
       "535                NaN\n",
       "536                B38\n",
       "537                NaN\n",
       "538                NaN\n",
       "539                B39\n",
       "540                B22\n",
       "541                NaN\n",
       "542                NaN\n",
       "543                NaN\n",
       "544                C86\n",
       "545                NaN\n",
       "546                NaN\n",
       "547                NaN\n",
       "548                NaN\n",
       "549                NaN\n",
       "550                C70\n",
       "551                NaN\n",
       "552                NaN\n",
       "553                NaN\n",
       "554                NaN\n",
       "555                NaN\n",
       "556                A16\n",
       "557                NaN\n",
       "558                E67\n",
       "559                NaN\n",
       "560                NaN\n",
       "561                NaN\n",
       "562                NaN\n",
       "563                NaN\n",
       "564                NaN\n",
       "565                NaN\n",
       "566                NaN\n",
       "567                NaN\n",
       "568                NaN\n",
       "569                NaN\n",
       "570                NaN\n",
       "571               C101\n",
       "572                E25\n",
       "573                NaN\n",
       "574                NaN\n",
       "575                NaN\n",
       "576                NaN\n",
       "577                E44\n",
       "578                NaN\n",
       "579                NaN\n",
       "580                NaN\n",
       "581                C68\n",
       "582                NaN\n",
       "583                A10\n",
       "584                NaN\n",
       "585                E68\n",
       "586                NaN\n",
       "587                B41\n",
       "588                NaN\n",
       "589                NaN\n",
       "590                NaN\n",
       "591                D20\n",
       "592                NaN\n",
       "593                NaN\n",
       "594                NaN\n",
       "595                NaN\n",
       "596                NaN\n",
       "597                NaN\n",
       "598                NaN\n",
       "599                A20\n",
       "600                NaN\n",
       "601                NaN\n",
       "602                NaN\n",
       "603                NaN\n",
       "604                NaN\n",
       "605                NaN\n",
       "606                NaN\n",
       "607                NaN\n",
       "608                NaN\n",
       "609               C125\n",
       "610                NaN\n",
       "611                NaN\n",
       "612                NaN\n",
       "613                NaN\n",
       "614                NaN\n",
       "615                NaN\n",
       "616                NaN\n",
       "617                NaN\n",
       "618                 F4\n",
       "619                NaN\n",
       "620                NaN\n",
       "621                D19\n",
       "622                NaN\n",
       "623                NaN\n",
       "624                NaN\n",
       "625                D50\n",
       "626                NaN\n",
       "627                 D9\n",
       "628                NaN\n",
       "629                NaN\n",
       "630                A23\n",
       "631                NaN\n",
       "632                B50\n",
       "633                NaN\n",
       "634                NaN\n",
       "635                NaN\n",
       "636                NaN\n",
       "637                NaN\n",
       "638                NaN\n",
       "639                NaN\n",
       "640                NaN\n",
       "641                B35\n",
       "642                NaN\n",
       "643                NaN\n",
       "644                NaN\n",
       "645                D33\n",
       "646                NaN\n",
       "647                A26\n",
       "648                NaN\n",
       "649                NaN\n",
       "650                NaN\n",
       "651                NaN\n",
       "652                NaN\n",
       "653                NaN\n",
       "654                NaN\n",
       "655                NaN\n",
       "656                NaN\n",
       "657                NaN\n",
       "658                NaN\n",
       "659                D48\n",
       "660                NaN\n",
       "661                NaN\n",
       "662                E58\n",
       "663                NaN\n",
       "664                NaN\n",
       "665                NaN\n",
       "666                NaN\n",
       "667                NaN\n",
       "668                NaN\n",
       "669               C126\n",
       "670                NaN\n",
       "671                B71\n",
       "672                NaN\n",
       "673                NaN\n",
       "674                NaN\n",
       "675                NaN\n",
       "676                NaN\n",
       "677                NaN\n",
       "678                NaN\n",
       "679        B51 B53 B55\n",
       "680                NaN\n",
       "681                D49\n",
       "682                NaN\n",
       "683                NaN\n",
       "684                NaN\n",
       "685                NaN\n",
       "686                NaN\n",
       "687                NaN\n",
       "688                NaN\n",
       "689                 B5\n",
       "690                B20\n",
       "691                NaN\n",
       "692                NaN\n",
       "693                NaN\n",
       "694                NaN\n",
       "695                NaN\n",
       "696                NaN\n",
       "697                NaN\n",
       "698                C68\n",
       "699              F G63\n",
       "700            C62 C64\n",
       "701                E24\n",
       "702                NaN\n",
       "703                NaN\n",
       "704                NaN\n",
       "705                NaN\n",
       "706                NaN\n",
       "707                E24\n",
       "708                NaN\n",
       "709                NaN\n",
       "710                C90\n",
       "711               C124\n",
       "712               C126\n",
       "713                NaN\n",
       "714                NaN\n",
       "715              F G73\n",
       "716                C45\n",
       "717               E101\n",
       "718                NaN\n",
       "719                NaN\n",
       "720                NaN\n",
       "721                NaN\n",
       "722                NaN\n",
       "723                NaN\n",
       "724                 E8\n",
       "725                NaN\n",
       "726                NaN\n",
       "727                NaN\n",
       "728                NaN\n",
       "729                NaN\n",
       "730                 B5\n",
       "731                NaN\n",
       "732                NaN\n",
       "733                NaN\n",
       "734                NaN\n",
       "735                NaN\n",
       "736                NaN\n",
       "737               B101\n",
       "738                NaN\n",
       "739                NaN\n",
       "740                D45\n",
       "741                C46\n",
       "742    B57 B59 B63 B66\n",
       "743                NaN\n",
       "744                NaN\n",
       "745                B22\n",
       "746                NaN\n",
       "747                NaN\n",
       "748                D30\n",
       "749                NaN\n",
       "750                NaN\n",
       "751               E121\n",
       "752                NaN\n",
       "753                NaN\n",
       "754                NaN\n",
       "755                NaN\n",
       "756                NaN\n",
       "757                NaN\n",
       "758                NaN\n",
       "759                B77\n",
       "760                NaN\n",
       "761                NaN\n",
       "762                NaN\n",
       "763            B96 B98\n",
       "764                NaN\n",
       "765                D11\n",
       "766                NaN\n",
       "767                NaN\n",
       "768                NaN\n",
       "769                NaN\n",
       "770                NaN\n",
       "771                NaN\n",
       "772                E77\n",
       "773                NaN\n",
       "774                NaN\n",
       "775                NaN\n",
       "776                F38\n",
       "777                NaN\n",
       "778                NaN\n",
       "779                 B3\n",
       "780                NaN\n",
       "781                B20\n",
       "782                 D6\n",
       "783                NaN\n",
       "784                NaN\n",
       "785                NaN\n",
       "786                NaN\n",
       "787                NaN\n",
       "788                NaN\n",
       "789            B82 B84\n",
       "790                NaN\n",
       "791                NaN\n",
       "792                NaN\n",
       "793                NaN\n",
       "794                NaN\n",
       "795                NaN\n",
       "796                D17\n",
       "797                NaN\n",
       "798                NaN\n",
       "799                NaN\n",
       "800                NaN\n",
       "801                NaN\n",
       "802            B96 B98\n",
       "803                NaN\n",
       "804                NaN\n",
       "805                NaN\n",
       "806                A36\n",
       "807                NaN\n",
       "808                NaN\n",
       "809                 E8\n",
       "810                NaN\n",
       "811                NaN\n",
       "812                NaN\n",
       "813                NaN\n",
       "814                NaN\n",
       "815               B102\n",
       "816                NaN\n",
       "817                NaN\n",
       "818                NaN\n",
       "819                NaN\n",
       "820                B69\n",
       "821                NaN\n",
       "822                NaN\n",
       "823               E121\n",
       "824                NaN\n",
       "825                NaN\n",
       "826                NaN\n",
       "827                NaN\n",
       "828                NaN\n",
       "829                B28\n",
       "830                NaN\n",
       "831                NaN\n",
       "832                NaN\n",
       "833                NaN\n",
       "834                NaN\n",
       "835                E49\n",
       "836                NaN\n",
       "837                NaN\n",
       "838                NaN\n",
       "839                C47\n",
       "840                NaN\n",
       "841                NaN\n",
       "842                NaN\n",
       "843                NaN\n",
       "844                NaN\n",
       "845                NaN\n",
       "846                NaN\n",
       "847                NaN\n",
       "848                NaN\n",
       "849                C92\n",
       "850                NaN\n",
       "851                NaN\n",
       "852                NaN\n",
       "853                D28\n",
       "854                NaN\n",
       "855                NaN\n",
       "856                NaN\n",
       "857                E17\n",
       "858                NaN\n",
       "859                NaN\n",
       "860                NaN\n",
       "861                NaN\n",
       "862                D17\n",
       "863                NaN\n",
       "864                NaN\n",
       "865                NaN\n",
       "866                NaN\n",
       "867                A24\n",
       "868                NaN\n",
       "869                NaN\n",
       "870                NaN\n",
       "871                D35\n",
       "872        B51 B53 B55\n",
       "873                NaN\n",
       "874                NaN\n",
       "875                NaN\n",
       "876                NaN\n",
       "877                NaN\n",
       "878                NaN\n",
       "879                C50\n",
       "880                NaN\n",
       "881                NaN\n",
       "882                NaN\n",
       "883                NaN\n",
       "884                NaN\n",
       "885                NaN\n",
       "886                NaN\n",
       "887                B42\n",
       "888                NaN\n",
       "889               C148\n",
       "890                NaN\n",
       "Name: Cabin, dtype: object"
      ]
     },
     "execution_count": 33,
     "metadata": {},
     "output_type": "execute_result"
    }
   ],
   "source": [
    "train_df.Cabin"
   ]
  },
  {
   "cell_type": "code",
   "execution_count": 20,
   "metadata": {},
   "outputs": [],
   "source": [
    "embarked_mode = train_df.Embarked.mode()[0]"
   ]
  },
  {
   "cell_type": "code",
   "execution_count": 21,
   "metadata": {},
   "outputs": [],
   "source": [
    "train_df.Embarked.fillna(embarked_mode, inplace=True)"
   ]
  },
  {
   "cell_type": "code",
   "execution_count": 22,
   "metadata": {},
   "outputs": [
    {
     "data": {
      "text/html": [
       "<div>\n",
       "<style scoped>\n",
       "    .dataframe tbody tr th:only-of-type {\n",
       "        vertical-align: middle;\n",
       "    }\n",
       "\n",
       "    .dataframe tbody tr th {\n",
       "        vertical-align: top;\n",
       "    }\n",
       "\n",
       "    .dataframe thead th {\n",
       "        text-align: right;\n",
       "    }\n",
       "</style>\n",
       "<table border=\"1\" class=\"dataframe\">\n",
       "  <thead>\n",
       "    <tr style=\"text-align: right;\">\n",
       "      <th></th>\n",
       "      <th>PassengerId</th>\n",
       "      <th>Survived</th>\n",
       "      <th>Pclass</th>\n",
       "      <th>Name</th>\n",
       "      <th>Sex</th>\n",
       "      <th>Age</th>\n",
       "      <th>SibSp</th>\n",
       "      <th>Parch</th>\n",
       "      <th>Ticket</th>\n",
       "      <th>Fare</th>\n",
       "      <th>Cabin</th>\n",
       "      <th>Embarked</th>\n",
       "    </tr>\n",
       "  </thead>\n",
       "  <tbody>\n",
       "  </tbody>\n",
       "</table>\n",
       "</div>"
      ],
      "text/plain": [
       "Empty DataFrame\n",
       "Columns: [PassengerId, Survived, Pclass, Name, Sex, Age, SibSp, Parch, Ticket, Fare, Cabin, Embarked]\n",
       "Index: []"
      ]
     },
     "execution_count": 22,
     "metadata": {},
     "output_type": "execute_result"
    }
   ],
   "source": [
    "train_df[train_df.Embarked.isnull()]"
   ]
  },
  {
   "cell_type": "code",
   "execution_count": 23,
   "metadata": {},
   "outputs": [
    {
     "data": {
      "text/plain": [
       "PassengerId                     62\n",
       "Survived                         1\n",
       "Pclass                           1\n",
       "Name           Icard, Miss. Amelie\n",
       "Sex                         female\n",
       "Age                             38\n",
       "SibSp                            0\n",
       "Parch                            0\n",
       "Ticket                      113572\n",
       "Fare                            80\n",
       "Cabin                          B28\n",
       "Embarked                         S\n",
       "Name: 61, dtype: object"
      ]
     },
     "execution_count": 23,
     "metadata": {},
     "output_type": "execute_result"
    }
   ],
   "source": [
    "train_df.iloc[61]"
   ]
  },
  {
   "cell_type": "markdown",
   "metadata": {},
   "source": [
    "### Cabin Column"
   ]
  },
  {
   "cell_type": "code",
   "execution_count": 17,
   "metadata": {},
   "outputs": [
    {
     "data": {
      "text/plain": [
       "77.10437710437711"
      ]
     },
     "execution_count": 17,
     "metadata": {},
     "output_type": "execute_result"
    }
   ],
   "source": [
    "train_df.Cabin.isnull().sum()/len(train_df) * 100"
   ]
  },
  {
   "cell_type": "code",
   "execution_count": 34,
   "metadata": {},
   "outputs": [],
   "source": [
    "train_df.drop(columns=\"Cabin\", inplace=True)"
   ]
  },
  {
   "cell_type": "code",
   "execution_count": 35,
   "metadata": {},
   "outputs": [
    {
     "data": {
      "text/html": [
       "<div>\n",
       "<style scoped>\n",
       "    .dataframe tbody tr th:only-of-type {\n",
       "        vertical-align: middle;\n",
       "    }\n",
       "\n",
       "    .dataframe tbody tr th {\n",
       "        vertical-align: top;\n",
       "    }\n",
       "\n",
       "    .dataframe thead th {\n",
       "        text-align: right;\n",
       "    }\n",
       "</style>\n",
       "<table border=\"1\" class=\"dataframe\">\n",
       "  <thead>\n",
       "    <tr style=\"text-align: right;\">\n",
       "      <th></th>\n",
       "      <th>PassengerId</th>\n",
       "      <th>Survived</th>\n",
       "      <th>Pclass</th>\n",
       "      <th>Name</th>\n",
       "      <th>Sex</th>\n",
       "      <th>Age</th>\n",
       "      <th>SibSp</th>\n",
       "      <th>Parch</th>\n",
       "      <th>Ticket</th>\n",
       "      <th>Fare</th>\n",
       "      <th>Embarked</th>\n",
       "    </tr>\n",
       "  </thead>\n",
       "  <tbody>\n",
       "    <tr>\n",
       "      <th>0</th>\n",
       "      <td>1</td>\n",
       "      <td>0</td>\n",
       "      <td>3</td>\n",
       "      <td>Braund, Mr. Owen Harris</td>\n",
       "      <td>male</td>\n",
       "      <td>22.0</td>\n",
       "      <td>1</td>\n",
       "      <td>0</td>\n",
       "      <td>A/5 21171</td>\n",
       "      <td>7.2500</td>\n",
       "      <td>S</td>\n",
       "    </tr>\n",
       "    <tr>\n",
       "      <th>1</th>\n",
       "      <td>2</td>\n",
       "      <td>1</td>\n",
       "      <td>1</td>\n",
       "      <td>Cumings, Mrs. John Bradley (Florence Briggs Th...</td>\n",
       "      <td>female</td>\n",
       "      <td>38.0</td>\n",
       "      <td>1</td>\n",
       "      <td>0</td>\n",
       "      <td>PC 17599</td>\n",
       "      <td>71.2833</td>\n",
       "      <td>C</td>\n",
       "    </tr>\n",
       "  </tbody>\n",
       "</table>\n",
       "</div>"
      ],
      "text/plain": [
       "   PassengerId  Survived  Pclass  \\\n",
       "0            1         0       3   \n",
       "1            2         1       1   \n",
       "\n",
       "                                                Name     Sex   Age  SibSp  \\\n",
       "0                            Braund, Mr. Owen Harris    male  22.0      1   \n",
       "1  Cumings, Mrs. John Bradley (Florence Briggs Th...  female  38.0      1   \n",
       "\n",
       "   Parch     Ticket     Fare Embarked  \n",
       "0      0  A/5 21171   7.2500        S  \n",
       "1      0   PC 17599  71.2833        C  "
      ]
     },
     "execution_count": 35,
     "metadata": {},
     "output_type": "execute_result"
    }
   ],
   "source": [
    "train_df.head(2)"
   ]
  },
  {
   "cell_type": "code",
   "execution_count": 36,
   "metadata": {},
   "outputs": [],
   "source": [
    "test_df.drop(columns=\"Cabin\", inplace=True)"
   ]
  },
  {
   "cell_type": "code",
   "execution_count": 37,
   "metadata": {},
   "outputs": [
    {
     "data": {
      "text/html": [
       "<div>\n",
       "<style scoped>\n",
       "    .dataframe tbody tr th:only-of-type {\n",
       "        vertical-align: middle;\n",
       "    }\n",
       "\n",
       "    .dataframe tbody tr th {\n",
       "        vertical-align: top;\n",
       "    }\n",
       "\n",
       "    .dataframe thead th {\n",
       "        text-align: right;\n",
       "    }\n",
       "</style>\n",
       "<table border=\"1\" class=\"dataframe\">\n",
       "  <thead>\n",
       "    <tr style=\"text-align: right;\">\n",
       "      <th></th>\n",
       "      <th>PassengerId</th>\n",
       "      <th>Pclass</th>\n",
       "      <th>Name</th>\n",
       "      <th>Sex</th>\n",
       "      <th>Age</th>\n",
       "      <th>SibSp</th>\n",
       "      <th>Parch</th>\n",
       "      <th>Ticket</th>\n",
       "      <th>Fare</th>\n",
       "      <th>Embarked</th>\n",
       "    </tr>\n",
       "  </thead>\n",
       "  <tbody>\n",
       "    <tr>\n",
       "      <th>0</th>\n",
       "      <td>892</td>\n",
       "      <td>3</td>\n",
       "      <td>Kelly, Mr. James</td>\n",
       "      <td>male</td>\n",
       "      <td>34.5</td>\n",
       "      <td>0</td>\n",
       "      <td>0</td>\n",
       "      <td>330911</td>\n",
       "      <td>7.8292</td>\n",
       "      <td>Q</td>\n",
       "    </tr>\n",
       "    <tr>\n",
       "      <th>1</th>\n",
       "      <td>893</td>\n",
       "      <td>3</td>\n",
       "      <td>Wilkes, Mrs. James (Ellen Needs)</td>\n",
       "      <td>female</td>\n",
       "      <td>47.0</td>\n",
       "      <td>1</td>\n",
       "      <td>0</td>\n",
       "      <td>363272</td>\n",
       "      <td>7.0000</td>\n",
       "      <td>S</td>\n",
       "    </tr>\n",
       "  </tbody>\n",
       "</table>\n",
       "</div>"
      ],
      "text/plain": [
       "   PassengerId  Pclass                              Name     Sex   Age  SibSp  \\\n",
       "0          892       3                  Kelly, Mr. James    male  34.5      0   \n",
       "1          893       3  Wilkes, Mrs. James (Ellen Needs)  female  47.0      1   \n",
       "\n",
       "   Parch  Ticket    Fare Embarked  \n",
       "0      0  330911  7.8292        Q  \n",
       "1      0  363272  7.0000        S  "
      ]
     },
     "execution_count": 37,
     "metadata": {},
     "output_type": "execute_result"
    }
   ],
   "source": [
    "test_df.head(2)"
   ]
  },
  {
   "cell_type": "markdown",
   "metadata": {
    "collapsed": true
   },
   "source": [
    "### Age Column"
   ]
  },
  {
   "cell_type": "code",
   "execution_count": 41,
   "metadata": {},
   "outputs": [
    {
     "data": {
      "text/plain": [
       "30.0"
      ]
     },
     "execution_count": 41,
     "metadata": {},
     "output_type": "execute_result"
    }
   ],
   "source": [
    "round(train_df.Age.mean())"
   ]
  },
  {
   "cell_type": "code",
   "execution_count": 43,
   "metadata": {},
   "outputs": [],
   "source": [
    "mean_age = np.ceil(train_df.Age.mean())"
   ]
  },
  {
   "cell_type": "code",
   "execution_count": 45,
   "metadata": {},
   "outputs": [],
   "source": [
    "train_df.Age.fillna(mean_age, inplace=True)"
   ]
  },
  {
   "cell_type": "code",
   "execution_count": 46,
   "metadata": {},
   "outputs": [
    {
     "data": {
      "text/plain": [
       "PassengerId    0\n",
       "Survived       0\n",
       "Pclass         0\n",
       "Name           0\n",
       "Sex            0\n",
       "Age            0\n",
       "SibSp          0\n",
       "Parch          0\n",
       "Ticket         0\n",
       "Fare           0\n",
       "Embarked       0\n",
       "dtype: int64"
      ]
     },
     "execution_count": 46,
     "metadata": {},
     "output_type": "execute_result"
    }
   ],
   "source": [
    "train_df.isnull().sum()"
   ]
  },
  {
   "cell_type": "code",
   "execution_count": 47,
   "metadata": {},
   "outputs": [],
   "source": [
    "test_df.Age.fillna(mean_age, inplace=True)"
   ]
  },
  {
   "cell_type": "code",
   "execution_count": 48,
   "metadata": {},
   "outputs": [
    {
     "data": {
      "text/plain": [
       "PassengerId    0\n",
       "Pclass         0\n",
       "Name           0\n",
       "Sex            0\n",
       "Age            0\n",
       "SibSp          0\n",
       "Parch          0\n",
       "Ticket         0\n",
       "Fare           1\n",
       "Embarked       0\n",
       "dtype: int64"
      ]
     },
     "execution_count": 48,
     "metadata": {},
     "output_type": "execute_result"
    }
   ],
   "source": [
    "test_df.isnull().sum()"
   ]
  },
  {
   "cell_type": "code",
   "execution_count": 49,
   "metadata": {},
   "outputs": [
    {
     "data": {
      "text/plain": [
       "(418, 10)"
      ]
     },
     "execution_count": 49,
     "metadata": {},
     "output_type": "execute_result"
    }
   ],
   "source": [
    "test_df.shape"
   ]
  },
  {
   "cell_type": "markdown",
   "metadata": {},
   "source": [
    "### Fare Column"
   ]
  },
  {
   "cell_type": "code",
   "execution_count": 50,
   "metadata": {},
   "outputs": [],
   "source": [
    "data = [train_df, test_df]\n",
    "\n",
    "for dataset in data:\n",
    "    dataset['Fare'] = dataset['Fare'].fillna(0)"
   ]
  },
  {
   "cell_type": "markdown",
   "metadata": {},
   "source": [
    "## Feature Engineering"
   ]
  },
  {
   "cell_type": "markdown",
   "metadata": {},
   "source": [
    "### Name Column"
   ]
  },
  {
   "cell_type": "code",
   "execution_count": 31,
   "metadata": {},
   "outputs": [
    {
     "data": {
      "text/plain": [
       "0                              Braund, Mr. Owen Harris\n",
       "1    Cumings, Mrs. John Bradley (Florence Briggs Th...\n",
       "2                               Heikkinen, Miss. Laina\n",
       "Name: Name, dtype: object"
      ]
     },
     "execution_count": 31,
     "metadata": {},
     "output_type": "execute_result"
    }
   ],
   "source": [
    "train_df.Name[:3]"
   ]
  },
  {
   "cell_type": "code",
   "execution_count": null,
   "metadata": {},
   "outputs": [],
   "source": [
    "\\w = [A-Za-z0-9_]"
   ]
  },
  {
   "cell_type": "code",
   "execution_count": 58,
   "metadata": {},
   "outputs": [
    {
     "data": {
      "text/plain": [
       "Index(['Mr', 'Miss', 'Mrs', 'Master', 'Dr', 'Rev', 'Mlle', 'Col', 'Major',\n",
       "       'Don', 'Sir', 'Lady', 'Mme', 'Jonkheer', 'Ms', 'Capt'],\n",
       "      dtype='object')"
      ]
     },
     "execution_count": 58,
     "metadata": {},
     "output_type": "execute_result"
    }
   ],
   "source": [
    "train_df.Name.str.extract(\",\\s(\\w+)\\.\", expand=False).value_counts().index"
   ]
  },
  {
   "cell_type": "code",
   "execution_count": 46,
   "metadata": {},
   "outputs": [
    {
     "data": {
      "text/plain": [
       "['Mr',\n",
       " 'Miss',\n",
       " 'Mrs',\n",
       " 'Master',\n",
       " 'Dr',\n",
       " 'Rev',\n",
       " 'Mlle',\n",
       " 'Col',\n",
       " 'Major',\n",
       " 'Don',\n",
       " 'Lady',\n",
       " 'Jonkheer',\n",
       " 'Capt',\n",
       " 'Mme',\n",
       " 'Ms',\n",
       " 'Sir']"
      ]
     },
     "execution_count": 46,
     "metadata": {},
     "output_type": "execute_result"
    }
   ],
   "source": [
    "titles_found = train_df.Name.str.extract(\",\\s(\\w+)\\.\", expand=False).value_counts().index.tolist()\n",
    "titles_found"
   ]
  },
  {
   "cell_type": "code",
   "execution_count": 47,
   "metadata": {},
   "outputs": [],
   "source": [
    "data = [train_df, test_df]\n",
    "titles = {\"Mr\": 1, \"Miss\": 2, \"Mrs\": 3, \"Master\": 4, \"Rare\": 5}\n",
    "\n",
    "for dataset in data:\n",
    "    # extract titles\n",
    "    dataset['Title'] = dataset.Name.str.extract(' ([A-Za-z]+)\\.', expand=False)\n",
    "    # replace titles with a more common title or as Rare\n",
    "    dataset['Title'] = dataset['Title'].replace(['Lady', 'Countess','Capt', 'Col','Don', 'Dr',\\\n",
    "                                            'Major', 'Rev', 'Sir', 'Jonkheer', 'Dona'], 'Rare')\n",
    "    dataset['Title'] = dataset['Title'].replace('Mlle', 'Miss')\n",
    "    dataset['Title'] = dataset['Title'].replace('Ms', 'Miss')\n",
    "    dataset['Title'] = dataset['Title'].replace('Mme', 'Mrs')\n",
    "    # convert titles into numbers\n",
    "    dataset['Title'] = dataset['Title'].map(titles)\n",
    "    # filling NaN with 0, to get safe\n",
    "    #dataset['Title'] = dataset['Title'].fillna(0)\n",
    "#train_df = train_df.drop(['Name'], axis=1)\n",
    "#test_df = test_df.drop(['Name'], axis=1)"
   ]
  },
  {
   "cell_type": "code",
   "execution_count": 48,
   "metadata": {},
   "outputs": [
    {
     "data": {
      "text/plain": [
       "1    517\n",
       "2    185\n",
       "3    126\n",
       "4     40\n",
       "5     23\n",
       "Name: Title, dtype: int64"
      ]
     },
     "execution_count": 48,
     "metadata": {},
     "output_type": "execute_result"
    }
   ],
   "source": [
    "train_df.Title.value_counts()"
   ]
  },
  {
   "cell_type": "markdown",
   "metadata": {},
   "source": [
    "### Sex Column"
   ]
  },
  {
   "cell_type": "code",
   "execution_count": 56,
   "metadata": {},
   "outputs": [],
   "source": [
    "for dataset in data:\n",
    "    dataset.Sex = dataset.Sex.map({\"male\":0, \"female\":1})"
   ]
  },
  {
   "cell_type": "code",
   "execution_count": 57,
   "metadata": {},
   "outputs": [
    {
     "data": {
      "text/plain": [
       "0    577\n",
       "1    314\n",
       "Name: Sex, dtype: int64"
      ]
     },
     "execution_count": 57,
     "metadata": {},
     "output_type": "execute_result"
    }
   ],
   "source": [
    "train_df.Sex.value_counts()"
   ]
  },
  {
   "cell_type": "code",
   "execution_count": null,
   "metadata": {},
   "outputs": [],
   "source": [
    "### Embarked Column"
   ]
  },
  {
   "cell_type": "code",
   "execution_count": 60,
   "metadata": {},
   "outputs": [],
   "source": [
    "ports = {\"S\": 0, \"C\": 1, \"Q\": 2}\n",
    "data = [train_df, test_df]\n",
    "\n",
    "for dataset in data:\n",
    "    dataset['Embarked'] = dataset['Embarked'].map(ports)"
   ]
  },
  {
   "cell_type": "markdown",
   "metadata": {},
   "source": [
    "### Dropping unnecessary Columns"
   ]
  },
  {
   "cell_type": "code",
   "execution_count": 50,
   "metadata": {},
   "outputs": [],
   "source": [
    "#train_df = train_df.drop(['PassengerId'], axis=1)\n",
    "for dataset in data:\n",
    "    dataset.drop(columns = ['PassengerId','Name', 'Ticket'], inplace=True)"
   ]
  },
  {
   "cell_type": "markdown",
   "metadata": {},
   "source": [
    "## Dealing with data types"
   ]
  },
  {
   "cell_type": "code",
   "execution_count": 61,
   "metadata": {},
   "outputs": [
    {
     "name": "stdout",
     "output_type": "stream",
     "text": [
      "<class 'pandas.core.frame.DataFrame'>\n",
      "RangeIndex: 891 entries, 0 to 890\n",
      "Data columns (total 9 columns):\n",
      " #   Column    Non-Null Count  Dtype  \n",
      "---  ------    --------------  -----  \n",
      " 0   Survived  891 non-null    int64  \n",
      " 1   Pclass    891 non-null    int64  \n",
      " 2   Sex       891 non-null    int64  \n",
      " 3   Age       891 non-null    float64\n",
      " 4   SibSp     891 non-null    int64  \n",
      " 5   Parch     891 non-null    int64  \n",
      " 6   Fare      891 non-null    float64\n",
      " 7   Embarked  891 non-null    int64  \n",
      " 8   Title     891 non-null    int64  \n",
      "dtypes: float64(2), int64(7)\n",
      "memory usage: 62.8 KB\n"
     ]
    }
   ],
   "source": [
    "train_df.info()"
   ]
  },
  {
   "cell_type": "code",
   "execution_count": 62,
   "metadata": {},
   "outputs": [
    {
     "data": {
      "text/html": [
       "<div>\n",
       "<style scoped>\n",
       "    .dataframe tbody tr th:only-of-type {\n",
       "        vertical-align: middle;\n",
       "    }\n",
       "\n",
       "    .dataframe tbody tr th {\n",
       "        vertical-align: top;\n",
       "    }\n",
       "\n",
       "    .dataframe thead th {\n",
       "        text-align: right;\n",
       "    }\n",
       "</style>\n",
       "<table border=\"1\" class=\"dataframe\">\n",
       "  <thead>\n",
       "    <tr style=\"text-align: right;\">\n",
       "      <th></th>\n",
       "      <th>Survived</th>\n",
       "      <th>Pclass</th>\n",
       "      <th>Sex</th>\n",
       "      <th>Age</th>\n",
       "      <th>SibSp</th>\n",
       "      <th>Parch</th>\n",
       "      <th>Fare</th>\n",
       "      <th>Embarked</th>\n",
       "      <th>Title</th>\n",
       "    </tr>\n",
       "  </thead>\n",
       "  <tbody>\n",
       "    <tr>\n",
       "      <th>0</th>\n",
       "      <td>0</td>\n",
       "      <td>3</td>\n",
       "      <td>0</td>\n",
       "      <td>22.0</td>\n",
       "      <td>1</td>\n",
       "      <td>0</td>\n",
       "      <td>7.2500</td>\n",
       "      <td>0</td>\n",
       "      <td>1</td>\n",
       "    </tr>\n",
       "    <tr>\n",
       "      <th>1</th>\n",
       "      <td>1</td>\n",
       "      <td>1</td>\n",
       "      <td>1</td>\n",
       "      <td>38.0</td>\n",
       "      <td>1</td>\n",
       "      <td>0</td>\n",
       "      <td>71.2833</td>\n",
       "      <td>1</td>\n",
       "      <td>3</td>\n",
       "    </tr>\n",
       "    <tr>\n",
       "      <th>2</th>\n",
       "      <td>1</td>\n",
       "      <td>3</td>\n",
       "      <td>1</td>\n",
       "      <td>26.0</td>\n",
       "      <td>0</td>\n",
       "      <td>0</td>\n",
       "      <td>7.9250</td>\n",
       "      <td>0</td>\n",
       "      <td>2</td>\n",
       "    </tr>\n",
       "    <tr>\n",
       "      <th>3</th>\n",
       "      <td>1</td>\n",
       "      <td>1</td>\n",
       "      <td>1</td>\n",
       "      <td>35.0</td>\n",
       "      <td>1</td>\n",
       "      <td>0</td>\n",
       "      <td>53.1000</td>\n",
       "      <td>0</td>\n",
       "      <td>3</td>\n",
       "    </tr>\n",
       "    <tr>\n",
       "      <th>4</th>\n",
       "      <td>0</td>\n",
       "      <td>3</td>\n",
       "      <td>0</td>\n",
       "      <td>35.0</td>\n",
       "      <td>0</td>\n",
       "      <td>0</td>\n",
       "      <td>8.0500</td>\n",
       "      <td>0</td>\n",
       "      <td>1</td>\n",
       "    </tr>\n",
       "  </tbody>\n",
       "</table>\n",
       "</div>"
      ],
      "text/plain": [
       "   Survived  Pclass  Sex   Age  SibSp  Parch     Fare  Embarked  Title\n",
       "0         0       3    0  22.0      1      0   7.2500         0      1\n",
       "1         1       1    1  38.0      1      0  71.2833         1      3\n",
       "2         1       3    1  26.0      0      0   7.9250         0      2\n",
       "3         1       1    1  35.0      1      0  53.1000         0      3\n",
       "4         0       3    0  35.0      0      0   8.0500         0      1"
      ]
     },
     "execution_count": 62,
     "metadata": {},
     "output_type": "execute_result"
    }
   ],
   "source": [
    "train_df.head()"
   ]
  },
  {
   "cell_type": "code",
   "execution_count": 63,
   "metadata": {},
   "outputs": [
    {
     "name": "stdout",
     "output_type": "stream",
     "text": [
      "<class 'pandas.core.frame.DataFrame'>\n",
      "RangeIndex: 418 entries, 0 to 417\n",
      "Data columns (total 8 columns):\n",
      " #   Column    Non-Null Count  Dtype  \n",
      "---  ------    --------------  -----  \n",
      " 0   Pclass    418 non-null    int64  \n",
      " 1   Sex       418 non-null    int64  \n",
      " 2   Age       418 non-null    float64\n",
      " 3   SibSp     418 non-null    int64  \n",
      " 4   Parch     418 non-null    int64  \n",
      " 5   Fare      418 non-null    float64\n",
      " 6   Embarked  418 non-null    int64  \n",
      " 7   Title     418 non-null    int64  \n",
      "dtypes: float64(2), int64(6)\n",
      "memory usage: 26.2 KB\n"
     ]
    }
   ],
   "source": [
    "test_df.info()"
   ]
  },
  {
   "cell_type": "code",
   "execution_count": 64,
   "metadata": {},
   "outputs": [
    {
     "data": {
      "text/html": [
       "<div>\n",
       "<style scoped>\n",
       "    .dataframe tbody tr th:only-of-type {\n",
       "        vertical-align: middle;\n",
       "    }\n",
       "\n",
       "    .dataframe tbody tr th {\n",
       "        vertical-align: top;\n",
       "    }\n",
       "\n",
       "    .dataframe thead th {\n",
       "        text-align: right;\n",
       "    }\n",
       "</style>\n",
       "<table border=\"1\" class=\"dataframe\">\n",
       "  <thead>\n",
       "    <tr style=\"text-align: right;\">\n",
       "      <th></th>\n",
       "      <th>Pclass</th>\n",
       "      <th>Sex</th>\n",
       "      <th>Age</th>\n",
       "      <th>SibSp</th>\n",
       "      <th>Parch</th>\n",
       "      <th>Fare</th>\n",
       "      <th>Embarked</th>\n",
       "      <th>Title</th>\n",
       "    </tr>\n",
       "  </thead>\n",
       "  <tbody>\n",
       "    <tr>\n",
       "      <th>0</th>\n",
       "      <td>3</td>\n",
       "      <td>0</td>\n",
       "      <td>34.5</td>\n",
       "      <td>0</td>\n",
       "      <td>0</td>\n",
       "      <td>7.8292</td>\n",
       "      <td>2</td>\n",
       "      <td>1</td>\n",
       "    </tr>\n",
       "    <tr>\n",
       "      <th>1</th>\n",
       "      <td>3</td>\n",
       "      <td>1</td>\n",
       "      <td>47.0</td>\n",
       "      <td>1</td>\n",
       "      <td>0</td>\n",
       "      <td>7.0000</td>\n",
       "      <td>0</td>\n",
       "      <td>3</td>\n",
       "    </tr>\n",
       "    <tr>\n",
       "      <th>2</th>\n",
       "      <td>2</td>\n",
       "      <td>0</td>\n",
       "      <td>62.0</td>\n",
       "      <td>0</td>\n",
       "      <td>0</td>\n",
       "      <td>9.6875</td>\n",
       "      <td>2</td>\n",
       "      <td>1</td>\n",
       "    </tr>\n",
       "    <tr>\n",
       "      <th>3</th>\n",
       "      <td>3</td>\n",
       "      <td>0</td>\n",
       "      <td>27.0</td>\n",
       "      <td>0</td>\n",
       "      <td>0</td>\n",
       "      <td>8.6625</td>\n",
       "      <td>0</td>\n",
       "      <td>1</td>\n",
       "    </tr>\n",
       "    <tr>\n",
       "      <th>4</th>\n",
       "      <td>3</td>\n",
       "      <td>1</td>\n",
       "      <td>22.0</td>\n",
       "      <td>1</td>\n",
       "      <td>1</td>\n",
       "      <td>12.2875</td>\n",
       "      <td>0</td>\n",
       "      <td>3</td>\n",
       "    </tr>\n",
       "  </tbody>\n",
       "</table>\n",
       "</div>"
      ],
      "text/plain": [
       "   Pclass  Sex   Age  SibSp  Parch     Fare  Embarked  Title\n",
       "0       3    0  34.5      0      0   7.8292         2      1\n",
       "1       3    1  47.0      1      0   7.0000         0      3\n",
       "2       2    0  62.0      0      0   9.6875         2      1\n",
       "3       3    0  27.0      0      0   8.6625         0      1\n",
       "4       3    1  22.0      1      1  12.2875         0      3"
      ]
     },
     "execution_count": 64,
     "metadata": {},
     "output_type": "execute_result"
    }
   ],
   "source": [
    "test_df.head()"
   ]
  },
  {
   "cell_type": "markdown",
   "metadata": {},
   "source": [
    "# Modeling"
   ]
  },
  {
   "cell_type": "markdown",
   "metadata": {},
   "source": [
    "### High Correlation Check"
   ]
  },
  {
   "cell_type": "code",
   "execution_count": 65,
   "metadata": {},
   "outputs": [],
   "source": [
    "corr = train_df.corr()"
   ]
  },
  {
   "cell_type": "code",
   "execution_count": 66,
   "metadata": {},
   "outputs": [],
   "source": [
    "# Generating a mask for the upper triangle of the heatmap\n",
    "mask = np.triu(np.ones_like(corr, dtype=bool))"
   ]
  },
  {
   "cell_type": "code",
   "execution_count": 67,
   "metadata": {},
   "outputs": [
    {
     "data": {
      "image/png": "[encoded data removed]",
      "text/plain": [
       "<Figure size 720x720 with 2 Axes>"
      ]
     },
     "metadata": {
      "needs_background": "light"
     },
     "output_type": "display_data"
    }
   ],
   "source": [
    "# Adding the mask to the heatmap and see the corr matrix as a heatmap\n",
    "plt.figure(figsize=(10, 10))\n",
    "sns.heatmap(corr, mask=mask, cmap=cm.seismic, center=0, linewidths=1, annot=True, fmt=\".2f\")\n",
    "plt.show()"
   ]
  },
  {
   "cell_type": "markdown",
   "metadata": {},
   "source": [
    "## Splitting and Fitting data set"
   ]
  },
  {
   "cell_type": "code",
   "execution_count": null,
   "metadata": {},
   "outputs": [],
   "source": [
    "X_train = train_df.drop(\"Survived\", axis=1)\n",
    "Y_train = train_df[\"Survived\"]\n",
    "X_test  = test_df.drop(\"PassengerId\", axis=1).copy()"
   ]
  },
  {
   "cell_type": "code",
   "execution_count": 69,
   "metadata": {},
   "outputs": [],
   "source": [
    "from sklearn.model_selection import train_test_split"
   ]
  },
  {
   "cell_type": "code",
   "execution_count": 288,
   "metadata": {},
   "outputs": [
    {
     "name": "stdout",
     "output_type": "stream",
     "text": [
      "(632, 36) (632,)\n",
      "(259, 36) (259,)\n"
     ]
    }
   ],
   "source": [
    "X_train, X_test, y_train, y_test = train_test_split(X, y, test_size=0.29, random_state=59)\n",
    "print(X_train.shape, y_train.shape)\n",
    "print(X_test.shape, y_test.shape)"
   ]
  },
  {
   "cell_type": "code",
   "execution_count": 539,
   "metadata": {},
   "outputs": [],
   "source": [
    "xgb_cl = xgb.XGBClassifier(objective=\"binary:logistic\", n_estimators=21, seed=59)"
   ]
  },
  {
   "cell_type": "code",
   "execution_count": 290,
   "metadata": {},
   "outputs": [
    {
     "name": "stdout",
     "output_type": "stream",
     "text": [
      "Score on train data:  0.7915057915057915\n",
      "accuracy: 0.791506\n"
     ]
    }
   ],
   "source": [
    "xgb_cl.fit(X_train, y_train)\n",
    "\n",
    "print(\"Score on train data: \", xgb_cl.score(X_test, y_test))\n",
    "\n",
    "preds = xgb_cl.predict(X_test)\n",
    "\n",
    "#rmse_xgb_tree = np.sqrt(mean_squared_error(train[\"Survived\"], train[\"preds\"]))\n",
    "#print(\"RMSE:\", rmse_xgb_tree, \"1-RMSE:\", 1.0-rmse_xgb_tree)\n",
    "\n",
    "accuracy = float(np.sum(preds==y_test))/y_test.shape[0]\n",
    "print(\"accuracy: %f\" % accuracy)"
   ]
  },
  {
   "cell_type": "markdown",
   "metadata": {},
   "source": [
    "### Tuning the XGB Model"
   ]
  },
  {
   "cell_type": "code",
   "execution_count": 192,
   "metadata": {},
   "outputs": [],
   "source": [
    "from sklearn.tree import DecisionTreeClassifier"
   ]
  },
  {
   "cell_type": "code",
   "execution_count": 291,
   "metadata": {},
   "outputs": [
    {
     "name": "stdout",
     "output_type": "stream",
     "text": [
      "accuracy: 0.7374517374517374\n"
     ]
    }
   ],
   "source": [
    "# Instantiate the classifier: dt_clf_6\n",
    "dt_clf_6 = DecisionTreeClassifier(max_depth=6)\n",
    "\n",
    "# Fit the classifier to the training set\n",
    "dt_clf_6.fit(X_train, y_train)\n",
    "\n",
    "# Predict the labels of the test set: y_pred_11\n",
    "y_pred_6 = dt_clf_6.predict(X_test)\n",
    "\n",
    "# Compute the accuracy of the predictions: accuracy\n",
    "accuracy = float(np.sum(y_pred_6==y_test))/y_test.shape[0]\n",
    "print(\"accuracy:\", accuracy)"
   ]
  },
  {
   "cell_type": "code",
   "execution_count": 292,
   "metadata": {},
   "outputs": [
    {
     "name": "stderr",
     "output_type": "stream",
     "text": [
      "C:\\Users\\buono\\Anaconda3\\lib\\site-packages\\xgboost\\core.py:587: FutureWarning: Series.base is deprecated and will be removed in a future version\n",
      "  if getattr(data, 'base', None) is not None and \\\n",
      "C:\\Users\\buono\\Anaconda3\\lib\\site-packages\\xgboost\\core.py:588: FutureWarning: Series.base is deprecated and will be removed in a future version\n",
      "  data.base is not None and isinstance(data, np.ndarray) \\\n"
     ]
    },
    {
     "name": "stdout",
     "output_type": "stream",
     "text": [
      "    train-error-mean  train-error-std  test-error-mean  test-error-std\n",
      "0           0.120090         0.007936         0.178451        0.014285\n",
      "1           0.113356         0.008286         0.169472        0.018305\n",
      "2           0.108867         0.009152         0.169472        0.020816\n",
      "3           0.105500         0.011691         0.171717        0.021472\n",
      "4           0.105499         0.011111         0.175084        0.023966\n",
      "5           0.099888         0.005204         0.170595        0.027537\n",
      "6           0.098205         0.006919         0.168350        0.031224\n",
      "7           0.095960         0.007142         0.169472        0.032798\n",
      "8           0.090348         0.004828         0.170595        0.030157\n",
      "9           0.088665         0.007054         0.169472        0.025984\n",
      "10          0.084736         0.003968         0.170595        0.027537\n",
      "11          0.083053         0.005204         0.167228        0.024945\n",
      "12          0.079686         0.004828         0.171717        0.024435\n",
      "13          0.074635         0.004827         0.177329        0.026417\n",
      "14          0.072952         0.005555         0.179573        0.025984\n",
      "15          0.072952         0.003459         0.177329        0.020997\n",
      "16          0.071830         0.004827         0.176206        0.023381\n",
      "17          0.068463         0.006496         0.177329        0.024945\n",
      "18          0.070707         0.007274         0.177329        0.027122\n",
      "19          0.067340         0.003637         0.169472        0.025544\n",
      "20          0.064534         0.004419         0.169472        0.021354\n",
      "0.8305276666666667\n"
     ]
    }
   ],
   "source": [
    "# Create the DMatrix: survive_dmatrix\n",
    "survive_dmatrix = xgb.DMatrix(data=X, label=y)\n",
    "\n",
    "# Create the parameter dictionary: params\n",
    "params = {\"objective\":\"reg:logistic\", \"max_depth\":6}\n",
    "\n",
    "# Perform cross-validation: cv_results\n",
    "cv_results = xgb.cv(dtrain=survive_dmatrix, params=params, nfold=3, num_boost_round=21, metrics=\"error\", as_pandas=True, seed=59)\n",
    "\n",
    "# Print cv_results\n",
    "print(cv_results)\n",
    "\n",
    "# Print the accuracy\n",
    "print(((1-cv_results[\"test-error-mean\"]).iloc[-1]))"
   ]
  },
  {
   "cell_type": "code",
   "execution_count": 293,
   "metadata": {},
   "outputs": [
    {
     "name": "stdout",
     "output_type": "stream",
     "text": [
      "    train-auc-mean  train-auc-std  test-auc-mean  test-auc-std\n",
      "0         0.898775       0.005881       0.868050      0.037169\n",
      "1         0.915431       0.005385       0.870422      0.034830\n",
      "2         0.926192       0.006871       0.866290      0.041183\n",
      "3         0.933353       0.006086       0.869331      0.040937\n",
      "4         0.938171       0.005009       0.870616      0.042330\n",
      "5         0.943562       0.004800       0.868677      0.040751\n",
      "6         0.948957       0.005497       0.864024      0.043282\n",
      "7         0.953358       0.006139       0.863564      0.043387\n",
      "8         0.956882       0.006101       0.864088      0.042832\n",
      "9         0.960291       0.004157       0.863879      0.042157\n",
      "10        0.962268       0.004504       0.862933      0.039813\n",
      "11        0.964623       0.004851       0.862318      0.039558\n",
      "12        0.966554       0.004494       0.860982      0.040826\n",
      "13        0.968355       0.004341       0.859878      0.041067\n",
      "14        0.969974       0.003596       0.859794      0.040865\n",
      "15        0.971178       0.003388       0.860226      0.042737\n",
      "16        0.972592       0.003174       0.859803      0.043302\n",
      "17        0.973614       0.003593       0.859392      0.043404\n",
      "18        0.975405       0.003514       0.859303      0.044024\n",
      "19        0.976235       0.003530       0.858825      0.045624\n",
      "20        0.977173       0.003503       0.858563      0.045438\n",
      "0.858562818181818\n"
     ]
    }
   ],
   "source": [
    "# Perform cross_validation: cv_results\n",
    "cv_results = xgb.cv(dtrain=survive_dmatrix, params=params, nfold=11, num_boost_round=21, metrics=\"auc\", as_pandas=True, seed=59)\n",
    "\n",
    "# Print cv_results\n",
    "print(cv_results)\n",
    "\n",
    "# Print the AUC\n",
    "print((cv_results[\"test-auc-mean\"]).iloc[-1])"
   ]
  },
  {
   "cell_type": "markdown",
   "metadata": {},
   "source": [
    "## Re Tuning XGB"
   ]
  },
  {
   "cell_type": "code",
   "execution_count": 548,
   "metadata": {},
   "outputs": [],
   "source": [
    "xgb_model = xgb.XGBClassifier(silent=False, \n",
    "                      scale_pos_weight=1,\n",
    "                      learning_rate=0.1,  \n",
    "                      colsample_bytree = 0.4,\n",
    "                      subsample = 0.8,\n",
    "                      objective='binary:logistic', \n",
    "                      n_estimators=1000, \n",
    "                      reg_alpha = 0.3,\n",
    "                      max_depth=11, \n",
    "                      gamma=10)"
   ]
  },
  {
   "cell_type": "code",
   "execution_count": 295,
   "metadata": {},
   "outputs": [
    {
     "name": "stdout",
     "output_type": "stream",
     "text": [
      "Score on train data:  0.7799227799227799\n",
      "accuracy: 0.779923\n"
     ]
    }
   ],
   "source": [
    "xgb_model.fit(X_train, y_train)\n",
    "\n",
    "print(\"Score on train data: \", xgb_model.score(X_test, y_test))\n",
    "\n",
    "preds = xgb_model.predict(X_test)\n",
    "\n",
    "accuracy = float(np.sum(preds==y_test))/y_test.shape[0]\n",
    "print(\"accuracy: %f\" % accuracy)"
   ]
  },
  {
   "cell_type": "markdown",
   "metadata": {},
   "source": [
    "## Submission of the Data"
   ]
  },
  {
   "cell_type": "code",
   "execution_count": 557,
   "metadata": {},
   "outputs": [],
   "source": [
    "titanic_preds= model.predict(test)"
   ]
  },
  {
   "cell_type": "code",
   "execution_count": 558,
   "metadata": {},
   "outputs": [
    {
     "data": {
      "text/plain": [
       "418"
      ]
     },
     "execution_count": 558,
     "metadata": {},
     "output_type": "execute_result"
    }
   ],
   "source": [
    "len(titanic_preds)"
   ]
  },
  {
   "cell_type": "code",
   "execution_count": 559,
   "metadata": {},
   "outputs": [
    {
     "data": {
      "text/plain": [
       "418"
      ]
     },
     "execution_count": 559,
     "metadata": {},
     "output_type": "execute_result"
    }
   ],
   "source": [
    "passenger_id = test_data.PassengerId\n",
    "len(passenger_id)"
   ]
  },
  {
   "cell_type": "code",
   "execution_count": 560,
   "metadata": {},
   "outputs": [],
   "source": [
    "titanic_submission_karaarslan = pd.DataFrame({'PassengerId':passenger_id, 'Survived':titanic_preds})"
   ]
  },
  {
   "cell_type": "code",
   "execution_count": 561,
   "metadata": {},
   "outputs": [
    {
     "data": {
      "text/html": [
       "<div>\n",
       "<style scoped>\n",
       "    .dataframe tbody tr th:only-of-type {\n",
       "        vertical-align: middle;\n",
       "    }\n",
       "\n",
       "    .dataframe tbody tr th {\n",
       "        vertical-align: top;\n",
       "    }\n",
       "\n",
       "    .dataframe thead th {\n",
       "        text-align: right;\n",
       "    }\n",
       "</style>\n",
       "<table border=\"1\" class=\"dataframe\">\n",
       "  <thead>\n",
       "    <tr style=\"text-align: right;\">\n",
       "      <th></th>\n",
       "      <th>PassengerId</th>\n",
       "      <th>Survived</th>\n",
       "    </tr>\n",
       "  </thead>\n",
       "  <tbody>\n",
       "    <tr>\n",
       "      <th>0</th>\n",
       "      <td>892</td>\n",
       "      <td>0</td>\n",
       "    </tr>\n",
       "    <tr>\n",
       "      <th>1</th>\n",
       "      <td>893</td>\n",
       "      <td>0</td>\n",
       "    </tr>\n",
       "    <tr>\n",
       "      <th>2</th>\n",
       "      <td>894</td>\n",
       "      <td>0</td>\n",
       "    </tr>\n",
       "    <tr>\n",
       "      <th>3</th>\n",
       "      <td>895</td>\n",
       "      <td>0</td>\n",
       "    </tr>\n",
       "    <tr>\n",
       "      <th>4</th>\n",
       "      <td>896</td>\n",
       "      <td>1</td>\n",
       "    </tr>\n",
       "  </tbody>\n",
       "</table>\n",
       "</div>"
      ],
      "text/plain": [
       "   PassengerId  Survived\n",
       "0          892         0\n",
       "1          893         0\n",
       "2          894         0\n",
       "3          895         0\n",
       "4          896         1"
      ]
     },
     "execution_count": 561,
     "metadata": {},
     "output_type": "execute_result"
    }
   ],
   "source": [
    "titanic_submission_karaarslan.head()"
   ]
  },
  {
   "cell_type": "code",
   "execution_count": 562,
   "metadata": {},
   "outputs": [],
   "source": [
    "titanic_submission_karaarslan.to_csv('Karaarslan_Titanic_09.csv', index=False)"
   ]
  },
  {
   "cell_type": "code",
   "execution_count": 302,
   "metadata": {},
   "outputs": [
    {
     "data": {
      "text/html": [
       "<div>\n",
       "<style scoped>\n",
       "    .dataframe tbody tr th:only-of-type {\n",
       "        vertical-align: middle;\n",
       "    }\n",
       "\n",
       "    .dataframe tbody tr th {\n",
       "        vertical-align: top;\n",
       "    }\n",
       "\n",
       "    .dataframe thead th {\n",
       "        text-align: right;\n",
       "    }\n",
       "</style>\n",
       "<table border=\"1\" class=\"dataframe\">\n",
       "  <thead>\n",
       "    <tr style=\"text-align: right;\">\n",
       "      <th></th>\n",
       "      <th>PassengerId</th>\n",
       "      <th>Survived</th>\n",
       "    </tr>\n",
       "  </thead>\n",
       "  <tbody>\n",
       "    <tr>\n",
       "      <th>0</th>\n",
       "      <td>892</td>\n",
       "      <td>0</td>\n",
       "    </tr>\n",
       "    <tr>\n",
       "      <th>1</th>\n",
       "      <td>893</td>\n",
       "      <td>1</td>\n",
       "    </tr>\n",
       "    <tr>\n",
       "      <th>2</th>\n",
       "      <td>894</td>\n",
       "      <td>0</td>\n",
       "    </tr>\n",
       "    <tr>\n",
       "      <th>3</th>\n",
       "      <td>895</td>\n",
       "      <td>0</td>\n",
       "    </tr>\n",
       "    <tr>\n",
       "      <th>4</th>\n",
       "      <td>896</td>\n",
       "      <td>1</td>\n",
       "    </tr>\n",
       "  </tbody>\n",
       "</table>\n",
       "</div>"
      ],
      "text/plain": [
       "   PassengerId  Survived\n",
       "0          892         0\n",
       "1          893         1\n",
       "2          894         0\n",
       "3          895         0\n",
       "4          896         1"
      ]
     },
     "execution_count": 302,
     "metadata": {},
     "output_type": "execute_result"
    }
   ],
   "source": [
    "df = pd.read_csv('Karaarslan_Titanic_06.csv')\n",
    "df.head()"
   ]
  },
  {
   "cell_type": "markdown",
   "metadata": {},
   "source": [
    "## Random Forest Classifier"
   ]
  },
  {
   "cell_type": "code",
   "execution_count": 261,
   "metadata": {},
   "outputs": [],
   "source": [
    "from sklearn.ensemble import RandomForestClassifier\n",
    "model = RandomForestClassifier(n_estimators = 180, min_samples_leaf=3, max_features=0.5, n_jobs=-1)\n",
    "model.fit(X_train, y_train)\n",
    "\n",
    "# Making predictions\n",
    "y_pred = model.predict(X_test)"
   ]
  },
  {
   "cell_type": "code",
   "execution_count": 262,
   "metadata": {},
   "outputs": [
    {
     "name": "stdout",
     "output_type": "stream",
     "text": [
      "Score on train data:  0.7847533632286996\n",
      "accuracy: 0.784753\n"
     ]
    }
   ],
   "source": [
    "print(\"Score on train data: \", model.score(X_test, y_test))\n",
    "\n",
    "accuracy = float(np.sum(y_pred==y_test))/y_test.shape[0]\n",
    "print(\"accuracy: %f\" % accuracy)"
   ]
  },
  {
   "cell_type": "code",
   "execution_count": 212,
   "metadata": {},
   "outputs": [
    {
     "data": {
      "text/plain": [
       "0.7932960893854749"
      ]
     },
     "execution_count": 212,
     "metadata": {},
     "output_type": "execute_result"
    }
   ],
   "source": [
    "from sklearn.metrics import accuracy_score\n",
    "accuracy_score(y_test, y_pred)"
   ]
  },
  {
   "cell_type": "code",
   "execution_count": 213,
   "metadata": {},
   "outputs": [],
   "source": [
    "RF_pred = model.predict(test)"
   ]
  },
  {
   "cell_type": "code",
   "execution_count": 214,
   "metadata": {},
   "outputs": [
    {
     "name": "stdout",
     "output_type": "stream",
     "text": [
      "              precision    recall  f1-score   support\n",
      "\n",
      "           0       0.79      0.86      0.82       100\n",
      "           1       0.80      0.71      0.75        79\n",
      "\n",
      "   micro avg       0.79      0.79      0.79       179\n",
      "   macro avg       0.79      0.78      0.79       179\n",
      "weighted avg       0.79      0.79      0.79       179\n",
      "\n",
      "[[86 14]\n",
      " [23 56]]\n"
     ]
    }
   ],
   "source": [
    "from sklearn.metrics import classification_report, confusion_matrix\n",
    "print(classification_report(y_test, y_pred))\n",
    "print(confusion_matrix(y_test, y_pred))"
   ]
  },
  {
   "cell_type": "code",
   "execution_count": 215,
   "metadata": {},
   "outputs": [
    {
     "ename": "NameError",
     "evalue": "name 'feat_importance' is not defined",
     "output_type": "error",
     "traceback": [
      "\u001b[1;31m---------------------------------------------------------------------------\u001b[0m",
      "\u001b[1;31mNameError\u001b[0m                                 Traceback (most recent call last)",
      "\u001b[1;32m<ipython-input-215-fb1d9e0aca33>\u001b[0m in \u001b[0;36m<module>\u001b[1;34m\u001b[0m\n\u001b[0;32m      1\u001b[0m \u001b[1;31m# Feature importance\u001b[0m\u001b[1;33m\u001b[0m\u001b[1;33m\u001b[0m\u001b[1;33m\u001b[0m\u001b[0m\n\u001b[1;32m----> 2\u001b[1;33m \u001b[0mfi\u001b[0m \u001b[1;33m=\u001b[0m \u001b[0mfeat_importance\u001b[0m\u001b[1;33m(\u001b[0m\u001b[0mmodel\u001b[0m\u001b[1;33m,\u001b[0m \u001b[0mX_train\u001b[0m\u001b[1;33m)\u001b[0m\u001b[1;33m\u001b[0m\u001b[1;33m\u001b[0m\u001b[0m\n\u001b[0m\u001b[0;32m      3\u001b[0m \u001b[0mfi\u001b[0m\u001b[1;33m[\u001b[0m\u001b[1;33m:\u001b[0m\u001b[1;33m,\u001b[0m\u001b[1;36m10\u001b[0m\u001b[1;33m]\u001b[0m\u001b[1;33m\u001b[0m\u001b[1;33m\u001b[0m\u001b[0m\n",
      "\u001b[1;31mNameError\u001b[0m: name 'feat_importance' is not defined"
     ]
    }
   ],
   "source": [
    "# Feature importance\n",
    "fi = feat_importance(model, X_train)\n",
    "fi[:,10]"
   ]
  },
  {
   "cell_type": "markdown",
   "metadata": {},
   "source": [
    "## Using TPOT to find best model"
   ]
  },
  {
   "cell_type": "code",
   "execution_count": 218,
   "metadata": {},
   "outputs": [],
   "source": [
    "train.rename(columns = {\"Survived\": \"class\"}, inplace = True)"
   ]
  },
  {
   "cell_type": "code",
   "execution_count": 219,
   "metadata": {},
   "outputs": [],
   "source": [
    "y_tpot = train[\"class\"]\n",
    "X_tpot = train.drop([\"class\"], axis=1)"
   ]
  },
  {
   "cell_type": "code",
   "execution_count": 221,
   "metadata": {},
   "outputs": [
    {
     "name": "stdout",
     "output_type": "stream",
     "text": [
      "(596, 36) (596,)\n",
      "(295, 36) (295,)\n"
     ]
    }
   ],
   "source": [
    "X_train, X_test, y_train, y_test = train_test_split(X_tpot, y_tpot, test_size=0.33, random_state=59)\n",
    "print(X_train.shape, y_train.shape)\n",
    "print(X_test.shape, y_test.shape)"
   ]
  },
  {
   "cell_type": "code",
   "execution_count": 222,
   "metadata": {},
   "outputs": [],
   "source": [
    "from tpot import TPOTClassifier\n",
    "from sklearn.model_selection import train_test_split"
   ]
  },
  {
   "cell_type": "markdown",
   "metadata": {},
   "source": [
    "The first and most important step in using TPOT on any data set is to rename the target class/response variable to class."
   ]
  },
  {
   "cell_type": "markdown",
   "metadata": {},
   "source": [
    "TPOT requires all the data to be in numerical format. As we can see below, our data set has some categorical variables which contain non-numerical values"
   ]
  },
  {
   "cell_type": "markdown",
   "metadata": {},
   "source": [
    "## Fitting data into the Model"
   ]
  },
  {
   "cell_type": "code",
   "execution_count": 223,
   "metadata": {},
   "outputs": [],
   "source": [
    "from tpot import TPOTRegressor"
   ]
  },
  {
   "cell_type": "code",
   "execution_count": 224,
   "metadata": {},
   "outputs": [],
   "source": [
    "tpot = TPOTClassifier(verbosity=3, \n",
    "                      scoring=\"balanced_accuracy\", \n",
    "                      random_state=23, \n",
    "                      periodic_checkpoint_folder=\"tpot_mnst1.txt\", \n",
    "                      n_jobs=-1, \n",
    "                      generations=10, \n",
    "                      population_size=75)"
   ]
  },
  {
   "cell_type": "code",
   "execution_count": 225,
   "metadata": {},
   "outputs": [
    {
     "name": "stdout",
     "output_type": "stream",
     "text": [
      "30 operators have been imported by TPOT.\n"
     ]
    },
    {
     "data": {
      "application/vnd.jupyter.widget-view+json": {
       "model_id": "65514285add4453eb41612146fe32bf5",
       "version_major": 2,
       "version_minor": 0
      },
      "text/plain": [
       "HBox(children=(IntProgress(value=0, description='Optimization Progress', max=825, style=ProgressStyle(descript…"
      ]
     },
     "metadata": {},
     "output_type": "display_data"
    },
    {
     "name": "stdout",
     "output_type": "stream",
     "text": [
      "_pre_test decorator: _random_mutation_operator: num_test=0 Unsupported set of arguments: The combination of penalty='l1' and loss='hinge' is not supported, Parameters: penalty='l1', loss='hinge', dual=False.\n",
      "_pre_test decorator: _random_mutation_operator: num_test=0 Unsupported set of arguments: The combination of penalty='l1' and loss='hinge' is not supported, Parameters: penalty='l1', loss='hinge', dual=True.\n",
      "_pre_test decorator: _random_mutation_operator: num_test=0 Unsupported set of arguments: The combination of penalty='l1' and loss='hinge' is not supported, Parameters: penalty='l1', loss='hinge', dual=True.\n",
      "_pre_test decorator: _random_mutation_operator: num_test=0 Expected n_neighbors <= n_samples,  but n_samples = 50, n_neighbors = 55.\n",
      "_pre_test decorator: _random_mutation_operator: num_test=0 manhattan was provided as affinity. Ward can only work with euclidean distances..\n",
      "_pre_test decorator: _random_mutation_operator: num_test=0 Found array with 0 feature(s) (shape=(50, 0)) while a minimum of 1 is required..\n",
      "_pre_test decorator: _random_mutation_operator: num_test=0 Found array with 0 feature(s) (shape=(50, 0)) while a minimum of 1 is required..\n",
      "_pre_test decorator: _random_mutation_operator: num_test=0 '(slice(None, None, None), 0)' is an invalid key.\n",
      "_pre_test decorator: _random_mutation_operator: num_test=0 '(slice(None, None, None), 0)' is an invalid key.\n",
      "Generation 1 - Current Pareto front scores:\n",
      "-1\t0.8282376024628167\tXGBClassifier(CombineDFs(input_matrix, input_matrix), XGBClassifier__learning_rate=0.5, XGBClassifier__max_depth=1, XGBClassifier__min_child_weight=2, XGBClassifier__n_estimators=100, XGBClassifier__nthread=1, XGBClassifier__subsample=0.4)\n",
      "\n",
      "Saving periodic pipeline from pareto front to tpot_mnst1.txt\\pipeline_gen_1_idx_0_2019.08.03_17-20-02.py\n",
      "_pre_test decorator: _random_mutation_operator: num_test=0 Found array with 0 feature(s) (shape=(50, 0)) while a minimum of 1 is required..\n",
      "_pre_test decorator: _random_mutation_operator: num_test=0 cosine was provided as affinity. Ward can only work with euclidean distances..\n",
      "_pre_test decorator: _random_mutation_operator: num_test=0 manhattan was provided as affinity. Ward can only work with euclidean distances..\n",
      "_pre_test decorator: _random_mutation_operator: num_test=0 feature_names mismatch: ['Pclass', 'Sex', 'Age', 'Fare', 'FamilySize', 'single', 'TicketCount', 'TicketForOne', 'CabinCount', 'Title_Capt', 'Title_Col', 'Title_Dr', 'Title_Jonkheer', 'Title_Lady', 'Title_Major', 'Title_Master', 'Title_Miss', 'Title_Mlle', 'Title_Mme', 'Title_Mr', 'Title_Mrs', 'Title_Ms', 'Title_Rev', 'Title_Sir', 'Title_the Countess', 'Embarked_C', 'Embarked_Q', 'Embarked_S', 'CabinCode_A', 'CabinCode_B', 'CabinCode_C', 'CabinCode_D', 'CabinCode_E', 'CabinCode_F', 'CabinCode_G', 'CabinCode_T'] ['f0', 'f1', 'f2', 'f3', 'f4', 'f5', 'f6', 'f7', 'f8', 'f9', 'f10', 'f11', 'f12', 'f13', 'f14', 'f15', 'f16', 'f17', 'f18', 'f19', 'f20', 'f21', 'f22', 'f23', 'f24', 'f25', 'f26', 'f27', 'f28', 'f29', 'f30', 'f31', 'f32', 'f33', 'f34', 'f35']\n",
      "expected TicketCount, CabinCode_F, Embarked_C, Title_Lady, Title_Col, FamilySize, CabinCount, Embarked_Q, Pclass, Title_Capt, Embarked_S, CabinCode_D, single, CabinCode_E, Title_Mlle, Sex, Title_Sir, CabinCode_T, CabinCode_C, Title_Ms, Title_Rev, TicketForOne, Title_Miss, Title_Jonkheer, Title_Master, Title_Major, Title_Mrs, CabinCode_B, CabinCode_A, Title_Mr, Title_the Countess, CabinCode_G, Fare, Title_Mme, Title_Dr, Age in input data\n",
      "training data did not have the following fields: f11, f17, f31, f29, f5, f35, f18, f7, f10, f9, f12, f14, f23, f6, f19, f0, f28, f27, f2, f1, f24, f30, f25, f26, f32, f33, f3, f8, f21, f15, f22, f34, f13, f20, f4, f16.\n",
      "_pre_test decorator: _random_mutation_operator: num_test=0 Unsupported set of arguments: The combination of penalty='l1' and loss='hinge' is not supported, Parameters: penalty='l1', loss='hinge', dual=False.\n",
      "_pre_test decorator: _random_mutation_operator: num_test=0 Unsupported set of arguments: The combination of penalty='l1' and loss='logistic_regression' are not supported when dual=True, Parameters: penalty='l1', loss='logistic_regression', dual=True.\n",
      "_pre_test decorator: _random_mutation_operator: num_test=0 '(slice(None, None, None), 0)' is an invalid key.\n",
      "Pipeline encountered that has previously been evaluated during the optimization process. Using the score from the previous evaluation.\n",
      "Generation 2 - Current Pareto front scores:\n",
      "-1\t0.8382223211305219\tRandomForestClassifier(input_matrix, RandomForestClassifier__bootstrap=True, RandomForestClassifier__criterion=entropy, RandomForestClassifier__max_features=0.7000000000000001, RandomForestClassifier__min_samples_leaf=3, RandomForestClassifier__min_samples_split=20, RandomForestClassifier__n_estimators=100)\n",
      "\n",
      "_pre_test decorator: _random_mutation_operator: num_test=0 '(slice(None, None, None), 0)' is an invalid key.\n",
      "_pre_test decorator: _random_mutation_operator: num_test=0 Unsupported set of arguments: The combination of penalty='l1' and loss='squared_hinge' are not supported when dual=True, Parameters: penalty='l1', loss='squared_hinge', dual=True.\n",
      "_pre_test decorator: _random_mutation_operator: num_test=0 feature_names mismatch: ['Pclass', 'Sex', 'Age', 'Fare', 'FamilySize', 'single', 'TicketCount', 'TicketForOne', 'CabinCount', 'Title_Capt', 'Title_Col', 'Title_Dr', 'Title_Jonkheer', 'Title_Lady', 'Title_Major', 'Title_Master', 'Title_Miss', 'Title_Mlle', 'Title_Mme', 'Title_Mr', 'Title_Mrs', 'Title_Ms', 'Title_Rev', 'Title_Sir', 'Title_the Countess', 'Embarked_C', 'Embarked_Q', 'Embarked_S', 'CabinCode_A', 'CabinCode_B', 'CabinCode_C', 'CabinCode_D', 'CabinCode_E', 'CabinCode_F', 'CabinCode_G', 'CabinCode_T'] ['f0', 'f1', 'f2', 'f3', 'f4', 'f5', 'f6', 'f7', 'f8', 'f9', 'f10', 'f11', 'f12', 'f13', 'f14', 'f15', 'f16', 'f17', 'f18', 'f19', 'f20', 'f21', 'f22', 'f23', 'f24', 'f25', 'f26', 'f27', 'f28', 'f29', 'f30', 'f31', 'f32', 'f33', 'f34', 'f35']\n",
      "expected TicketCount, CabinCode_F, Embarked_C, Title_Lady, Title_Col, FamilySize, CabinCount, Embarked_Q, Pclass, Title_Capt, Embarked_S, CabinCode_D, single, CabinCode_E, Title_Mlle, Sex, Title_Sir, CabinCode_T, CabinCode_C, Title_Ms, Title_Rev, TicketForOne, Title_Miss, Title_Jonkheer, Title_Master, Title_Major, Title_Mrs, CabinCode_B, CabinCode_A, Title_Mr, Title_the Countess, CabinCode_G, Fare, Title_Mme, Title_Dr, Age in input data\n",
      "training data did not have the following fields: f11, f17, f31, f29, f5, f35, f18, f7, f10, f9, f12, f14, f23, f6, f19, f0, f28, f27, f2, f1, f24, f30, f25, f26, f32, f33, f3, f8, f21, f15, f22, f34, f13, f20, f4, f16.\n",
      "_pre_test decorator: _random_mutation_operator: num_test=0 Unsupported set of arguments: The combination of penalty='l1' and loss='hinge' is not supported, Parameters: penalty='l1', loss='hinge', dual=False.\n",
      "_pre_test decorator: _random_mutation_operator: num_test=0 feature_names mismatch: ['Pclass', 'Sex', 'Age', 'Fare', 'FamilySize', 'single', 'TicketCount', 'TicketForOne', 'CabinCount', 'Title_Capt', 'Title_Col', 'Title_Dr', 'Title_Jonkheer', 'Title_Lady', 'Title_Major', 'Title_Master', 'Title_Miss', 'Title_Mlle', 'Title_Mme', 'Title_Mr', 'Title_Mrs', 'Title_Ms', 'Title_Rev', 'Title_Sir', 'Title_the Countess', 'Embarked_C', 'Embarked_Q', 'Embarked_S', 'CabinCode_A', 'CabinCode_B', 'CabinCode_C', 'CabinCode_D', 'CabinCode_E', 'CabinCode_F', 'CabinCode_G', 'CabinCode_T'] ['f0', 'f1', 'f2', 'f3', 'f4', 'f5', 'f6', 'f7', 'f8', 'f9', 'f10', 'f11', 'f12', 'f13', 'f14', 'f15', 'f16', 'f17', 'f18', 'f19', 'f20', 'f21', 'f22', 'f23', 'f24', 'f25', 'f26', 'f27', 'f28', 'f29', 'f30', 'f31', 'f32', 'f33', 'f34', 'f35']\n",
      "expected TicketCount, CabinCode_F, Embarked_C, Title_Lady, Title_Col, FamilySize, CabinCount, Embarked_Q, Pclass, Title_Capt, Embarked_S, CabinCode_D, single, CabinCode_E, Title_Mlle, Sex, Title_Sir, CabinCode_T, CabinCode_C, Title_Ms, Title_Rev, TicketForOne, Title_Miss, Title_Jonkheer, Title_Master, Title_Major, Title_Mrs, CabinCode_B, CabinCode_A, Title_Mr, Title_the Countess, CabinCode_G, Fare, Title_Mme, Title_Dr, Age in input data\n",
      "training data did not have the following fields: f11, f17, f31, f29, f5, f35, f18, f7, f10, f9, f12, f14, f23, f6, f19, f0, f28, f27, f2, f1, f24, f30, f25, f26, f32, f33, f3, f8, f21, f15, f22, f34, f13, f20, f4, f16.\n",
      "_pre_test decorator: _mate_operator: num_test=0 Unsupported set of arguments: The combination of penalty='l2' and loss='hinge' are not supported when dual=False, Parameters: penalty='l2', loss='hinge', dual=False.\n",
      "_pre_test decorator: _random_mutation_operator: num_test=0 Unsupported set of arguments: The combination of penalty='l1' and loss='logistic_regression' are not supported when dual=True, Parameters: penalty='l1', loss='logistic_regression', dual=True.\n",
      "_pre_test decorator: _random_mutation_operator: num_test=0 The condensed distance matrix must contain only finite values..\n",
      "Generation 3 - Current Pareto front scores:\n",
      "-1\t0.8434540261859723\tRandomForestClassifier(input_matrix, RandomForestClassifier__bootstrap=True, RandomForestClassifier__criterion=entropy, RandomForestClassifier__max_features=0.8, RandomForestClassifier__min_samples_leaf=1, RandomForestClassifier__min_samples_split=18, RandomForestClassifier__n_estimators=100)\n",
      "\n",
      "Saving periodic pipeline from pareto front to tpot_mnst1.txt\\pipeline_gen_3_idx_0_2019.08.03_17-21-08.py\n",
      "_pre_test decorator: _random_mutation_operator: num_test=0 feature_names mismatch: ['Pclass', 'Sex', 'Age', 'Fare', 'FamilySize', 'single', 'TicketCount', 'TicketForOne', 'CabinCount', 'Title_Capt', 'Title_Col', 'Title_Dr', 'Title_Jonkheer', 'Title_Lady', 'Title_Major', 'Title_Master', 'Title_Miss', 'Title_Mlle', 'Title_Mme', 'Title_Mr', 'Title_Mrs', 'Title_Ms', 'Title_Rev', 'Title_Sir', 'Title_the Countess', 'Embarked_C', 'Embarked_Q', 'Embarked_S', 'CabinCode_A', 'CabinCode_B', 'CabinCode_C', 'CabinCode_D', 'CabinCode_E', 'CabinCode_F', 'CabinCode_G', 'CabinCode_T'] ['f0', 'f1', 'f2', 'f3', 'f4', 'f5', 'f6', 'f7', 'f8', 'f9', 'f10', 'f11', 'f12', 'f13', 'f14', 'f15', 'f16', 'f17', 'f18', 'f19', 'f20', 'f21', 'f22', 'f23', 'f24', 'f25', 'f26', 'f27', 'f28', 'f29', 'f30', 'f31', 'f32', 'f33', 'f34', 'f35']\n",
      "expected TicketCount, CabinCode_F, Embarked_C, Title_Lady, Title_Col, FamilySize, CabinCount, Embarked_Q, Pclass, Title_Capt, Embarked_S, CabinCode_D, single, CabinCode_E, Title_Mlle, Sex, Title_Sir, CabinCode_T, CabinCode_C, Title_Ms, Title_Rev, TicketForOne, Title_Miss, Title_Jonkheer, Title_Master, Title_Major, Title_Mrs, CabinCode_B, CabinCode_A, Title_Mr, Title_the Countess, CabinCode_G, Fare, Title_Mme, Title_Dr, Age in input data\n",
      "training data did not have the following fields: f11, f17, f31, f29, f5, f35, f18, f7, f10, f9, f12, f14, f23, f6, f19, f0, f28, f27, f2, f1, f24, f30, f25, f26, f32, f33, f3, f8, f21, f15, f22, f34, f13, f20, f4, f16.\n",
      "_pre_test decorator: _random_mutation_operator: num_test=0 feature_names mismatch: ['Pclass', 'Sex', 'Age', 'Fare', 'FamilySize', 'single', 'TicketCount', 'TicketForOne', 'CabinCount', 'Title_Capt', 'Title_Col', 'Title_Dr', 'Title_Jonkheer', 'Title_Lady', 'Title_Major', 'Title_Master', 'Title_Miss', 'Title_Mlle', 'Title_Mme', 'Title_Mr', 'Title_Mrs', 'Title_Ms', 'Title_Rev', 'Title_Sir', 'Title_the Countess', 'Embarked_C', 'Embarked_Q', 'Embarked_S', 'CabinCode_A', 'CabinCode_B', 'CabinCode_C', 'CabinCode_D', 'CabinCode_E', 'CabinCode_F', 'CabinCode_G', 'CabinCode_T'] ['f0', 'f1', 'f2', 'f3', 'f4', 'f5', 'f6', 'f7', 'f8', 'f9', 'f10', 'f11', 'f12', 'f13', 'f14', 'f15', 'f16', 'f17', 'f18', 'f19', 'f20', 'f21', 'f22', 'f23', 'f24', 'f25', 'f26', 'f27', 'f28', 'f29', 'f30', 'f31', 'f32', 'f33', 'f34', 'f35']\n",
      "expected TicketCount, CabinCode_F, Embarked_C, Title_Lady, Title_Col, FamilySize, CabinCount, Embarked_Q, Pclass, Title_Capt, Embarked_S, CabinCode_D, single, CabinCode_E, Title_Mlle, Sex, Title_Sir, CabinCode_T, CabinCode_C, Title_Ms, Title_Rev, TicketForOne, Title_Miss, Title_Jonkheer, Title_Master, Title_Major, Title_Mrs, CabinCode_B, CabinCode_A, Title_Mr, Title_the Countess, CabinCode_G, Fare, Title_Mme, Title_Dr, Age in input data\n",
      "training data did not have the following fields: f11, f17, f31, f29, f5, f35, f18, f7, f10, f9, f12, f14, f23, f6, f19, f0, f28, f27, f2, f1, f24, f30, f25, f26, f32, f33, f3, f8, f21, f15, f22, f34, f13, f20, f4, f16.\n",
      "_pre_test decorator: _random_mutation_operator: num_test=0 Found array with 0 feature(s) (shape=(50, 0)) while a minimum of 1 is required..\n",
      "_pre_test decorator: _random_mutation_operator: num_test=0 Found array with 0 feature(s) (shape=(50, 0)) while a minimum of 1 is required..\n",
      "Generation 4 - Current Pareto front scores:\n",
      "-1\t0.8434540261859723\tRandomForestClassifier(input_matrix, RandomForestClassifier__bootstrap=True, RandomForestClassifier__criterion=entropy, RandomForestClassifier__max_features=0.8, RandomForestClassifier__min_samples_leaf=1, RandomForestClassifier__min_samples_split=18, RandomForestClassifier__n_estimators=100)\n",
      "-2\t0.8484640406513112\tExtraTreesClassifier(RandomForestClassifier(input_matrix, RandomForestClassifier__bootstrap=True, RandomForestClassifier__criterion=entropy, RandomForestClassifier__max_features=0.8500000000000001, RandomForestClassifier__min_samples_leaf=1, RandomForestClassifier__min_samples_split=18, RandomForestClassifier__n_estimators=100), ExtraTreesClassifier__bootstrap=True, ExtraTreesClassifier__criterion=entropy, ExtraTreesClassifier__max_features=0.35000000000000003, ExtraTreesClassifier__min_samples_leaf=13, ExtraTreesClassifier__min_samples_split=6, ExtraTreesClassifier__n_estimators=100)\n",
      "\n",
      "Periodic pipeline was not saved, probably saved before...\n",
      "Saving periodic pipeline from pareto front to tpot_mnst1.txt\\pipeline_gen_4_idx_1_2019.08.03_17-21-47.py\n",
      "_pre_test decorator: _random_mutation_operator: num_test=0 [17:21:54] src/learner.cc:723: Check failed: mparam_.num_feature != 0 (0 vs. 0) : 0 feature is supplied.  Are you using raw Booster interface?.\n",
      "_pre_test decorator: _random_mutation_operator: num_test=1 [17:21:54] src/learner.cc:723: Check failed: mparam_.num_feature != 0 (0 vs. 0) : 0 feature is supplied.  Are you using raw Booster interface?.\n",
      "_pre_test decorator: _random_mutation_operator: num_test=0 Found array with 0 feature(s) (shape=(50, 0)) while a minimum of 1 is required..\n",
      "_pre_test decorator: _random_mutation_operator: num_test=0 Input X must be non-negative.\n",
      "Generation 5 - Current Pareto front scores:\n",
      "-1\t0.8434540261859723\tRandomForestClassifier(input_matrix, RandomForestClassifier__bootstrap=True, RandomForestClassifier__criterion=entropy, RandomForestClassifier__max_features=0.8, RandomForestClassifier__min_samples_leaf=1, RandomForestClassifier__min_samples_split=18, RandomForestClassifier__n_estimators=100)\n",
      "-2\t0.8484640406513112\tExtraTreesClassifier(RandomForestClassifier(input_matrix, RandomForestClassifier__bootstrap=True, RandomForestClassifier__criterion=entropy, RandomForestClassifier__max_features=0.8500000000000001, RandomForestClassifier__min_samples_leaf=1, RandomForestClassifier__min_samples_split=18, RandomForestClassifier__n_estimators=100), ExtraTreesClassifier__bootstrap=True, ExtraTreesClassifier__criterion=entropy, ExtraTreesClassifier__max_features=0.35000000000000003, ExtraTreesClassifier__min_samples_leaf=13, ExtraTreesClassifier__min_samples_split=6, ExtraTreesClassifier__n_estimators=100)\n",
      "\n",
      "Periodic pipeline was not saved, probably saved before...\n",
      "Periodic pipeline was not saved, probably saved before...\n",
      "_pre_test decorator: _random_mutation_operator: num_test=0 Found array with 0 feature(s) (shape=(50, 0)) while a minimum of 1 is required..\n",
      "_pre_test decorator: _random_mutation_operator: num_test=0 feature_names mismatch: ['Pclass', 'Sex', 'Age', 'Fare', 'FamilySize', 'single', 'TicketCount', 'TicketForOne', 'CabinCount', 'Title_Capt', 'Title_Col', 'Title_Dr', 'Title_Jonkheer', 'Title_Lady', 'Title_Major', 'Title_Master', 'Title_Miss', 'Title_Mlle', 'Title_Mme', 'Title_Mr', 'Title_Mrs', 'Title_Ms', 'Title_Rev', 'Title_Sir', 'Title_the Countess', 'Embarked_C', 'Embarked_Q', 'Embarked_S', 'CabinCode_A', 'CabinCode_B', 'CabinCode_C', 'CabinCode_D', 'CabinCode_E', 'CabinCode_F', 'CabinCode_G', 'CabinCode_T'] ['f0', 'f1', 'f2', 'f3', 'f4', 'f5', 'f6', 'f7', 'f8', 'f9', 'f10', 'f11', 'f12', 'f13', 'f14', 'f15', 'f16', 'f17', 'f18', 'f19', 'f20', 'f21', 'f22', 'f23', 'f24', 'f25', 'f26', 'f27', 'f28', 'f29', 'f30', 'f31', 'f32', 'f33', 'f34', 'f35']\n",
      "expected TicketCount, CabinCode_F, Embarked_C, Title_Lady, Title_Col, FamilySize, CabinCount, Embarked_Q, Pclass, Title_Capt, Embarked_S, CabinCode_D, single, CabinCode_E, Title_Mlle, Sex, Title_Sir, CabinCode_T, CabinCode_C, Title_Ms, Title_Rev, TicketForOne, Title_Miss, Title_Jonkheer, Title_Master, Title_Major, Title_Mrs, CabinCode_B, CabinCode_A, Title_Mr, Title_the Countess, CabinCode_G, Fare, Title_Mme, Title_Dr, Age in input data\n"
     ]
    },
    {
     "name": "stdout",
     "output_type": "stream",
     "text": [
      "training data did not have the following fields: f11, f17, f31, f29, f5, f35, f18, f7, f10, f9, f12, f14, f23, f6, f19, f0, f28, f27, f2, f1, f24, f30, f25, f26, f32, f33, f3, f8, f21, f15, f22, f34, f13, f20, f4, f16.\n",
      "_pre_test decorator: _random_mutation_operator: num_test=0 Expected n_neighbors <= n_samples,  but n_samples = 50, n_neighbors = 87.\n",
      "_pre_test decorator: _random_mutation_operator: num_test=0 '(slice(None, None, None), 0)' is an invalid key.\n",
      "Generation 6 - Current Pareto front scores:\n",
      "-1\t0.843506880308594\tRandomForestClassifier(CombineDFs(input_matrix, input_matrix), RandomForestClassifier__bootstrap=True, RandomForestClassifier__criterion=entropy, RandomForestClassifier__max_features=0.45, RandomForestClassifier__min_samples_leaf=1, RandomForestClassifier__min_samples_split=14, RandomForestClassifier__n_estimators=100)\n",
      "-2\t0.8484640406513112\tExtraTreesClassifier(RandomForestClassifier(input_matrix, RandomForestClassifier__bootstrap=True, RandomForestClassifier__criterion=entropy, RandomForestClassifier__max_features=0.8500000000000001, RandomForestClassifier__min_samples_leaf=1, RandomForestClassifier__min_samples_split=18, RandomForestClassifier__n_estimators=100), ExtraTreesClassifier__bootstrap=True, ExtraTreesClassifier__criterion=entropy, ExtraTreesClassifier__max_features=0.35000000000000003, ExtraTreesClassifier__min_samples_leaf=13, ExtraTreesClassifier__min_samples_split=6, ExtraTreesClassifier__n_estimators=100)\n",
      "\n",
      "Saving periodic pipeline from pareto front to tpot_mnst1.txt\\pipeline_gen_6_idx_0_2019.08.03_17-23-46.py\n",
      "Periodic pipeline was not saved, probably saved before...\n",
      "_pre_test decorator: _random_mutation_operator: num_test=0 Found array with 0 feature(s) (shape=(50, 0)) while a minimum of 1 is required..\n",
      "_pre_test decorator: _random_mutation_operator: num_test=0 '(slice(None, None, None), 0)' is an invalid key.\n",
      "_pre_test decorator: _random_mutation_operator: num_test=0 Expected n_neighbors <= n_samples,  but n_samples = 50, n_neighbors = 77.\n",
      "_pre_test decorator: _random_mutation_operator: num_test=0 '(slice(None, None, None), 0)' is an invalid key.\n",
      "_pre_test decorator: _random_mutation_operator: num_test=0 l1 was provided as affinity. Ward can only work with euclidean distances..\n",
      "_pre_test decorator: _random_mutation_operator: num_test=0 Found array with 0 feature(s) (shape=(50, 0)) while a minimum of 1 is required..\n",
      "_pre_test decorator: _random_mutation_operator: num_test=0 '(slice(None, None, None), 0)' is an invalid key.\n",
      "_pre_test decorator: _random_mutation_operator: num_test=0 [17:23:51] src/learner.cc:723: Check failed: mparam_.num_feature != 0 (0 vs. 0) : 0 feature is supplied.  Are you using raw Booster interface?.\n",
      "_pre_test decorator: _random_mutation_operator: num_test=0 '(slice(None, None, None), 0)' is an invalid key.\n",
      "_pre_test decorator: _random_mutation_operator: num_test=1 '(slice(None, None, None), 0)' is an invalid key.\n",
      "_pre_test decorator: _random_mutation_operator: num_test=0 feature_names mismatch: ['Pclass', 'Sex', 'Age', 'Fare', 'FamilySize', 'single', 'TicketCount', 'TicketForOne', 'CabinCount', 'Title_Capt', 'Title_Col', 'Title_Dr', 'Title_Jonkheer', 'Title_Lady', 'Title_Major', 'Title_Master', 'Title_Miss', 'Title_Mlle', 'Title_Mme', 'Title_Mr', 'Title_Mrs', 'Title_Ms', 'Title_Rev', 'Title_Sir', 'Title_the Countess', 'Embarked_C', 'Embarked_Q', 'Embarked_S', 'CabinCode_A', 'CabinCode_B', 'CabinCode_C', 'CabinCode_D', 'CabinCode_E', 'CabinCode_F', 'CabinCode_G', 'CabinCode_T'] ['f0', 'f1', 'f2', 'f3', 'f4', 'f5', 'f6', 'f7', 'f8', 'f9', 'f10', 'f11', 'f12', 'f13', 'f14', 'f15', 'f16', 'f17', 'f18', 'f19', 'f20', 'f21', 'f22', 'f23', 'f24', 'f25', 'f26', 'f27', 'f28', 'f29', 'f30', 'f31', 'f32', 'f33', 'f34', 'f35']\n",
      "expected TicketCount, CabinCode_F, Embarked_C, Title_Lady, Title_Col, FamilySize, CabinCount, Embarked_Q, Pclass, Title_Capt, Embarked_S, CabinCode_D, single, CabinCode_E, Title_Mlle, Sex, Title_Sir, CabinCode_T, CabinCode_C, Title_Ms, Title_Rev, TicketForOne, Title_Miss, Title_Jonkheer, Title_Master, Title_Major, Title_Mrs, CabinCode_B, CabinCode_A, Title_Mr, Title_the Countess, CabinCode_G, Fare, Title_Mme, Title_Dr, Age in input data\n",
      "training data did not have the following fields: f11, f17, f31, f29, f5, f35, f18, f7, f10, f9, f12, f14, f23, f6, f19, f0, f28, f27, f2, f1, f24, f30, f25, f26, f32, f33, f3, f8, f21, f15, f22, f34, f13, f20, f4, f16.\n",
      "_pre_test decorator: _random_mutation_operator: num_test=0 [17:23:54] src/learner.cc:723: Check failed: mparam_.num_feature != 0 (0 vs. 0) : 0 feature is supplied.  Are you using raw Booster interface?.\n",
      "Generation 7 - Current Pareto front scores:\n",
      "-1\t0.843506880308594\tRandomForestClassifier(CombineDFs(input_matrix, input_matrix), RandomForestClassifier__bootstrap=True, RandomForestClassifier__criterion=entropy, RandomForestClassifier__max_features=0.45, RandomForestClassifier__min_samples_leaf=1, RandomForestClassifier__min_samples_split=14, RandomForestClassifier__n_estimators=100)\n",
      "-2\t0.8484640406513112\tExtraTreesClassifier(RandomForestClassifier(input_matrix, RandomForestClassifier__bootstrap=True, RandomForestClassifier__criterion=entropy, RandomForestClassifier__max_features=0.8500000000000001, RandomForestClassifier__min_samples_leaf=1, RandomForestClassifier__min_samples_split=18, RandomForestClassifier__n_estimators=100), ExtraTreesClassifier__bootstrap=True, ExtraTreesClassifier__criterion=entropy, ExtraTreesClassifier__max_features=0.35000000000000003, ExtraTreesClassifier__min_samples_leaf=13, ExtraTreesClassifier__min_samples_split=6, ExtraTreesClassifier__n_estimators=100)\n",
      "\n",
      "Periodic pipeline was not saved, probably saved before...\n",
      "Periodic pipeline was not saved, probably saved before...\n",
      "_pre_test decorator: _random_mutation_operator: num_test=0 Expected n_neighbors <= n_samples,  but n_samples = 50, n_neighbors = 90.\n",
      "_pre_test decorator: _random_mutation_operator: num_test=0 Found array with 0 feature(s) (shape=(50, 0)) while a minimum of 1 is required..\n",
      "_pre_test decorator: _random_mutation_operator: num_test=0 l1 was provided as affinity. Ward can only work with euclidean distances..\n",
      "_pre_test decorator: _random_mutation_operator: num_test=0 feature_names mismatch: ['Pclass', 'Sex', 'Age', 'Fare', 'FamilySize', 'single', 'TicketCount', 'TicketForOne', 'CabinCount', 'Title_Capt', 'Title_Col', 'Title_Dr', 'Title_Jonkheer', 'Title_Lady', 'Title_Major', 'Title_Master', 'Title_Miss', 'Title_Mlle', 'Title_Mme', 'Title_Mr', 'Title_Mrs', 'Title_Ms', 'Title_Rev', 'Title_Sir', 'Title_the Countess', 'Embarked_C', 'Embarked_Q', 'Embarked_S', 'CabinCode_A', 'CabinCode_B', 'CabinCode_C', 'CabinCode_D', 'CabinCode_E', 'CabinCode_F', 'CabinCode_G', 'CabinCode_T'] ['f0', 'f1', 'f2', 'f3', 'f4', 'f5', 'f6', 'f7', 'f8', 'f9', 'f10', 'f11', 'f12', 'f13', 'f14', 'f15', 'f16', 'f17', 'f18', 'f19', 'f20', 'f21', 'f22', 'f23', 'f24', 'f25', 'f26', 'f27', 'f28', 'f29', 'f30', 'f31', 'f32', 'f33', 'f34', 'f35']\n",
      "expected TicketCount, CabinCode_F, Embarked_C, Title_Lady, Title_Col, FamilySize, CabinCount, Embarked_Q, Pclass, Title_Capt, Embarked_S, CabinCode_D, single, CabinCode_E, Title_Mlle, Sex, Title_Sir, CabinCode_T, CabinCode_C, Title_Ms, Title_Rev, TicketForOne, Title_Miss, Title_Jonkheer, Title_Master, Title_Major, Title_Mrs, CabinCode_B, CabinCode_A, Title_Mr, Title_the Countess, CabinCode_G, Fare, Title_Mme, Title_Dr, Age in input data\n",
      "training data did not have the following fields: f11, f17, f31, f29, f5, f35, f18, f7, f10, f9, f12, f14, f23, f6, f19, f0, f28, f27, f2, f1, f24, f30, f25, f26, f32, f33, f3, f8, f21, f15, f22, f34, f13, f20, f4, f16.\n",
      "_pre_test decorator: _random_mutation_operator: num_test=0 [17:24:43] src/learner.cc:723: Check failed: mparam_.num_feature != 0 (0 vs. 0) : 0 feature is supplied.  Are you using raw Booster interface?.\n",
      "_pre_test decorator: _random_mutation_operator: num_test=0 '(slice(None, None, None), 0)' is an invalid key.\n",
      "_pre_test decorator: _random_mutation_operator: num_test=0 '(slice(None, None, None), 0)' is an invalid key.\n",
      "_pre_test decorator: _random_mutation_operator: num_test=0 Unsupported set of arguments: The combination of penalty='l1' and loss='squared_hinge' are not supported when dual=True, Parameters: penalty='l1', loss='squared_hinge', dual=True.\n",
      "Generation 8 - Current Pareto front scores:\n",
      "-1\t0.843506880308594\tRandomForestClassifier(CombineDFs(input_matrix, input_matrix), RandomForestClassifier__bootstrap=True, RandomForestClassifier__criterion=entropy, RandomForestClassifier__max_features=0.45, RandomForestClassifier__min_samples_leaf=1, RandomForestClassifier__min_samples_split=14, RandomForestClassifier__n_estimators=100)\n",
      "-2\t0.8484640406513112\tExtraTreesClassifier(RandomForestClassifier(input_matrix, RandomForestClassifier__bootstrap=True, RandomForestClassifier__criterion=entropy, RandomForestClassifier__max_features=0.8500000000000001, RandomForestClassifier__min_samples_leaf=1, RandomForestClassifier__min_samples_split=18, RandomForestClassifier__n_estimators=100), ExtraTreesClassifier__bootstrap=True, ExtraTreesClassifier__criterion=entropy, ExtraTreesClassifier__max_features=0.35000000000000003, ExtraTreesClassifier__min_samples_leaf=13, ExtraTreesClassifier__min_samples_split=6, ExtraTreesClassifier__n_estimators=100)\n",
      "\n",
      "Periodic pipeline was not saved, probably saved before...\n",
      "Periodic pipeline was not saved, probably saved before...\n",
      "_pre_test decorator: _random_mutation_operator: num_test=0 '(slice(None, None, None), 0)' is an invalid key.\n",
      "_pre_test decorator: _random_mutation_operator: num_test=0 Found array with 0 feature(s) (shape=(50, 0)) while a minimum of 1 is required..\n",
      "_pre_test decorator: _random_mutation_operator: num_test=0 Unsupported set of arguments: The combination of penalty='l1' and loss='hinge' is not supported, Parameters: penalty='l1', loss='hinge', dual=True.\n",
      "_pre_test decorator: _random_mutation_operator: num_test=0 Expected n_neighbors <= n_samples,  but n_samples = 50, n_neighbors = 78.\n",
      "_pre_test decorator: _random_mutation_operator: num_test=0 Expected n_neighbors <= n_samples,  but n_samples = 50, n_neighbors = 60.\n",
      "_pre_test decorator: _random_mutation_operator: num_test=0 '(slice(None, None, None), 0)' is an invalid key.\n",
      "_pre_test decorator: _random_mutation_operator: num_test=0 Input X must be non-negative.\n",
      "Generation 9 - Current Pareto front scores:\n",
      "-1\t0.8438832758428841\tRandomForestClassifier(CombineDFs(input_matrix, input_matrix), RandomForestClassifier__bootstrap=True, RandomForestClassifier__criterion=entropy, RandomForestClassifier__max_features=0.45, RandomForestClassifier__min_samples_leaf=3, RandomForestClassifier__min_samples_split=14, RandomForestClassifier__n_estimators=100)\n",
      "-2\t0.8484640406513112\tExtraTreesClassifier(RandomForestClassifier(input_matrix, RandomForestClassifier__bootstrap=True, RandomForestClassifier__criterion=entropy, RandomForestClassifier__max_features=0.8500000000000001, RandomForestClassifier__min_samples_leaf=1, RandomForestClassifier__min_samples_split=18, RandomForestClassifier__n_estimators=100), ExtraTreesClassifier__bootstrap=True, ExtraTreesClassifier__criterion=entropy, ExtraTreesClassifier__max_features=0.35000000000000003, ExtraTreesClassifier__min_samples_leaf=13, ExtraTreesClassifier__min_samples_split=6, ExtraTreesClassifier__n_estimators=100)\n",
      "\n",
      "Saving periodic pipeline from pareto front to tpot_mnst1.txt\\pipeline_gen_9_idx_0_2019.08.03_17-26-36.py\n",
      "Periodic pipeline was not saved, probably saved before...\n",
      "_pre_test decorator: _random_mutation_operator: num_test=0 l2 was provided as affinity. Ward can only work with euclidean distances..\n",
      "_pre_test decorator: _random_mutation_operator: num_test=0 Expected n_neighbors <= n_samples,  but n_samples = 50, n_neighbors = 78.\n",
      "_pre_test decorator: _random_mutation_operator: num_test=0 No feature in X meets the variance threshold 0.00500.\n",
      "_pre_test decorator: _mate_operator: num_test=0 '(slice(None, None, None), 0)' is an invalid key.\n",
      "Pipeline encountered that has previously been evaluated during the optimization process. Using the score from the previous evaluation.\n",
      "Pipeline encountered that has previously been evaluated during the optimization process. Using the score from the previous evaluation.\n",
      "Invalid pipeline encountered. Skipping its evaluation.\n",
      "Generation 10 - Current Pareto front scores:\n",
      "-1\t0.8438832758428841\tRandomForestClassifier(CombineDFs(input_matrix, input_matrix), RandomForestClassifier__bootstrap=True, RandomForestClassifier__criterion=entropy, RandomForestClassifier__max_features=0.45, RandomForestClassifier__min_samples_leaf=3, RandomForestClassifier__min_samples_split=14, RandomForestClassifier__n_estimators=100)\n",
      "-2\t0.8484640406513112\tExtraTreesClassifier(RandomForestClassifier(input_matrix, RandomForestClassifier__bootstrap=True, RandomForestClassifier__criterion=entropy, RandomForestClassifier__max_features=0.8500000000000001, RandomForestClassifier__min_samples_leaf=1, RandomForestClassifier__min_samples_split=18, RandomForestClassifier__n_estimators=100), ExtraTreesClassifier__bootstrap=True, ExtraTreesClassifier__criterion=entropy, ExtraTreesClassifier__max_features=0.35000000000000003, ExtraTreesClassifier__min_samples_leaf=13, ExtraTreesClassifier__min_samples_split=6, ExtraTreesClassifier__n_estimators=100)\n",
      "\n",
      "Periodic pipeline was not saved, probably saved before...\n",
      "Periodic pipeline was not saved, probably saved before...\n",
      "\r"
     ]
    },
    {
     "data": {
      "text/plain": [
       "TPOTClassifier(config_dict=None, crossover_rate=0.1, cv=5,\n",
       "        disable_update_check=False, early_stop=None, generations=10,\n",
       "        max_eval_time_mins=5, max_time_mins=None, memory=None,\n",
       "        mutation_rate=0.9, n_jobs=-1, offspring_size=None,\n",
       "        periodic_checkpoint_folder='tpot_mnst1.txt', population_size=75,\n",
       "        random_state=23, scoring='balanced_accuracy', subsample=1.0,\n",
       "        template=None, use_dask=False, verbosity=3, warm_start=False)"
      ]
     },
     "execution_count": 225,
     "metadata": {},
     "output_type": "execute_result"
    }
   ],
   "source": [
    "#tpot = TPOTClassifier(verbosity=2, max_time_mins=2, max_eval_time_mins=0.04, population_size=40)\n",
    "tpot.fit(X_train, y_train)"
   ]
  },
  {
   "cell_type": "code",
   "execution_count": 226,
   "metadata": {},
   "outputs": [
    {
     "data": {
      "text/plain": [
       "0.8056470588235294"
      ]
     },
     "execution_count": 226,
     "metadata": {},
     "output_type": "execute_result"
    }
   ],
   "source": [
    "tpot.score(X_test, y_test)"
   ]
  },
  {
   "cell_type": "code",
   "execution_count": 227,
   "metadata": {},
   "outputs": [],
   "source": [
    "tpot.export('titanic_pipeline.py')"
   ]
  },
  {
   "cell_type": "code",
   "execution_count": 228,
   "metadata": {},
   "outputs": [],
   "source": [
    "tr_data = train.rename(columns = {\"class\": \"target\"})"
   ]
  },
  {
   "cell_type": "code",
   "execution_count": 229,
   "metadata": {},
   "outputs": [
    {
     "data": {
      "text/html": [
       "<div>\n",
       "<style scoped>\n",
       "    .dataframe tbody tr th:only-of-type {\n",
       "        vertical-align: middle;\n",
       "    }\n",
       "\n",
       "    .dataframe tbody tr th {\n",
       "        vertical-align: top;\n",
       "    }\n",
       "\n",
       "    .dataframe thead th {\n",
       "        text-align: right;\n",
       "    }\n",
       "</style>\n",
       "<table border=\"1\" class=\"dataframe\">\n",
       "  <thead>\n",
       "    <tr style=\"text-align: right;\">\n",
       "      <th></th>\n",
       "      <th>target</th>\n",
       "      <th>Pclass</th>\n",
       "      <th>Sex</th>\n",
       "      <th>Age</th>\n",
       "      <th>Fare</th>\n",
       "      <th>FamilySize</th>\n",
       "      <th>single</th>\n",
       "      <th>TicketCount</th>\n",
       "      <th>TicketForOne</th>\n",
       "      <th>CabinCount</th>\n",
       "      <th>Title_Capt</th>\n",
       "      <th>Title_Col</th>\n",
       "      <th>Title_Dr</th>\n",
       "      <th>Title_Jonkheer</th>\n",
       "      <th>Title_Lady</th>\n",
       "      <th>Title_Major</th>\n",
       "      <th>Title_Master</th>\n",
       "      <th>Title_Miss</th>\n",
       "      <th>Title_Mlle</th>\n",
       "      <th>Title_Mme</th>\n",
       "      <th>Title_Mr</th>\n",
       "      <th>Title_Mrs</th>\n",
       "      <th>Title_Ms</th>\n",
       "      <th>Title_Rev</th>\n",
       "      <th>Title_Sir</th>\n",
       "      <th>Title_the Countess</th>\n",
       "      <th>Embarked_C</th>\n",
       "      <th>Embarked_Q</th>\n",
       "      <th>Embarked_S</th>\n",
       "      <th>CabinCode_A</th>\n",
       "      <th>CabinCode_B</th>\n",
       "      <th>CabinCode_C</th>\n",
       "      <th>CabinCode_D</th>\n",
       "      <th>CabinCode_E</th>\n",
       "      <th>CabinCode_F</th>\n",
       "      <th>CabinCode_G</th>\n",
       "      <th>CabinCode_T</th>\n",
       "    </tr>\n",
       "  </thead>\n",
       "  <tbody>\n",
       "    <tr>\n",
       "      <th>0</th>\n",
       "      <td>0</td>\n",
       "      <td>3</td>\n",
       "      <td>1</td>\n",
       "      <td>22.0</td>\n",
       "      <td>7.2500</td>\n",
       "      <td>2</td>\n",
       "      <td>0</td>\n",
       "      <td>1</td>\n",
       "      <td>7.25</td>\n",
       "      <td>1.0</td>\n",
       "      <td>0</td>\n",
       "      <td>0</td>\n",
       "      <td>0</td>\n",
       "      <td>0</td>\n",
       "      <td>0</td>\n",
       "      <td>0</td>\n",
       "      <td>0</td>\n",
       "      <td>0</td>\n",
       "      <td>0</td>\n",
       "      <td>0</td>\n",
       "      <td>1</td>\n",
       "      <td>0</td>\n",
       "      <td>0</td>\n",
       "      <td>0</td>\n",
       "      <td>0</td>\n",
       "      <td>0</td>\n",
       "      <td>0</td>\n",
       "      <td>0</td>\n",
       "      <td>1</td>\n",
       "      <td>0</td>\n",
       "      <td>0</td>\n",
       "      <td>0</td>\n",
       "      <td>0</td>\n",
       "      <td>1</td>\n",
       "      <td>0</td>\n",
       "      <td>0</td>\n",
       "      <td>0</td>\n",
       "    </tr>\n",
       "    <tr>\n",
       "      <th>1</th>\n",
       "      <td>1</td>\n",
       "      <td>1</td>\n",
       "      <td>0</td>\n",
       "      <td>38.0</td>\n",
       "      <td>71.2833</td>\n",
       "      <td>2</td>\n",
       "      <td>0</td>\n",
       "      <td>2</td>\n",
       "      <td>35.64</td>\n",
       "      <td>1.0</td>\n",
       "      <td>0</td>\n",
       "      <td>0</td>\n",
       "      <td>0</td>\n",
       "      <td>0</td>\n",
       "      <td>0</td>\n",
       "      <td>0</td>\n",
       "      <td>0</td>\n",
       "      <td>0</td>\n",
       "      <td>0</td>\n",
       "      <td>0</td>\n",
       "      <td>0</td>\n",
       "      <td>1</td>\n",
       "      <td>0</td>\n",
       "      <td>0</td>\n",
       "      <td>0</td>\n",
       "      <td>0</td>\n",
       "      <td>1</td>\n",
       "      <td>0</td>\n",
       "      <td>0</td>\n",
       "      <td>0</td>\n",
       "      <td>0</td>\n",
       "      <td>1</td>\n",
       "      <td>0</td>\n",
       "      <td>0</td>\n",
       "      <td>0</td>\n",
       "      <td>0</td>\n",
       "      <td>0</td>\n",
       "    </tr>\n",
       "    <tr>\n",
       "      <th>2</th>\n",
       "      <td>1</td>\n",
       "      <td>3</td>\n",
       "      <td>0</td>\n",
       "      <td>26.0</td>\n",
       "      <td>7.9250</td>\n",
       "      <td>1</td>\n",
       "      <td>1</td>\n",
       "      <td>1</td>\n",
       "      <td>7.92</td>\n",
       "      <td>1.0</td>\n",
       "      <td>0</td>\n",
       "      <td>0</td>\n",
       "      <td>0</td>\n",
       "      <td>0</td>\n",
       "      <td>0</td>\n",
       "      <td>0</td>\n",
       "      <td>0</td>\n",
       "      <td>1</td>\n",
       "      <td>0</td>\n",
       "      <td>0</td>\n",
       "      <td>0</td>\n",
       "      <td>0</td>\n",
       "      <td>0</td>\n",
       "      <td>0</td>\n",
       "      <td>0</td>\n",
       "      <td>0</td>\n",
       "      <td>0</td>\n",
       "      <td>0</td>\n",
       "      <td>1</td>\n",
       "      <td>0</td>\n",
       "      <td>0</td>\n",
       "      <td>0</td>\n",
       "      <td>0</td>\n",
       "      <td>0</td>\n",
       "      <td>1</td>\n",
       "      <td>0</td>\n",
       "      <td>0</td>\n",
       "    </tr>\n",
       "    <tr>\n",
       "      <th>3</th>\n",
       "      <td>1</td>\n",
       "      <td>1</td>\n",
       "      <td>0</td>\n",
       "      <td>35.0</td>\n",
       "      <td>53.1000</td>\n",
       "      <td>2</td>\n",
       "      <td>0</td>\n",
       "      <td>2</td>\n",
       "      <td>26.55</td>\n",
       "      <td>1.0</td>\n",
       "      <td>0</td>\n",
       "      <td>0</td>\n",
       "      <td>0</td>\n",
       "      <td>0</td>\n",
       "      <td>0</td>\n",
       "      <td>0</td>\n",
       "      <td>0</td>\n",
       "      <td>0</td>\n",
       "      <td>0</td>\n",
       "      <td>0</td>\n",
       "      <td>0</td>\n",
       "      <td>1</td>\n",
       "      <td>0</td>\n",
       "      <td>0</td>\n",
       "      <td>0</td>\n",
       "      <td>0</td>\n",
       "      <td>0</td>\n",
       "      <td>0</td>\n",
       "      <td>1</td>\n",
       "      <td>0</td>\n",
       "      <td>0</td>\n",
       "      <td>1</td>\n",
       "      <td>0</td>\n",
       "      <td>0</td>\n",
       "      <td>0</td>\n",
       "      <td>0</td>\n",
       "      <td>0</td>\n",
       "    </tr>\n",
       "    <tr>\n",
       "      <th>4</th>\n",
       "      <td>0</td>\n",
       "      <td>3</td>\n",
       "      <td>1</td>\n",
       "      <td>35.0</td>\n",
       "      <td>8.0500</td>\n",
       "      <td>1</td>\n",
       "      <td>1</td>\n",
       "      <td>1</td>\n",
       "      <td>8.05</td>\n",
       "      <td>1.0</td>\n",
       "      <td>0</td>\n",
       "      <td>0</td>\n",
       "      <td>0</td>\n",
       "      <td>0</td>\n",
       "      <td>0</td>\n",
       "      <td>0</td>\n",
       "      <td>0</td>\n",
       "      <td>0</td>\n",
       "      <td>0</td>\n",
       "      <td>0</td>\n",
       "      <td>1</td>\n",
       "      <td>0</td>\n",
       "      <td>0</td>\n",
       "      <td>0</td>\n",
       "      <td>0</td>\n",
       "      <td>0</td>\n",
       "      <td>0</td>\n",
       "      <td>0</td>\n",
       "      <td>1</td>\n",
       "      <td>0</td>\n",
       "      <td>0</td>\n",
       "      <td>0</td>\n",
       "      <td>0</td>\n",
       "      <td>0</td>\n",
       "      <td>1</td>\n",
       "      <td>0</td>\n",
       "      <td>0</td>\n",
       "    </tr>\n",
       "  </tbody>\n",
       "</table>\n",
       "</div>"
      ],
      "text/plain": [
       "   target  Pclass  Sex   Age     Fare  FamilySize  single  TicketCount  \\\n",
       "0       0       3    1  22.0   7.2500           2       0            1   \n",
       "1       1       1    0  38.0  71.2833           2       0            2   \n",
       "2       1       3    0  26.0   7.9250           1       1            1   \n",
       "3       1       1    0  35.0  53.1000           2       0            2   \n",
       "4       0       3    1  35.0   8.0500           1       1            1   \n",
       "\n",
       "   TicketForOne  CabinCount  Title_Capt  Title_Col  Title_Dr  Title_Jonkheer  \\\n",
       "0          7.25         1.0           0          0         0               0   \n",
       "1         35.64         1.0           0          0         0               0   \n",
       "2          7.92         1.0           0          0         0               0   \n",
       "3         26.55         1.0           0          0         0               0   \n",
       "4          8.05         1.0           0          0         0               0   \n",
       "\n",
       "   Title_Lady  Title_Major  Title_Master  Title_Miss  Title_Mlle  Title_Mme  \\\n",
       "0           0            0             0           0           0          0   \n",
       "1           0            0             0           0           0          0   \n",
       "2           0            0             0           1           0          0   \n",
       "3           0            0             0           0           0          0   \n",
       "4           0            0             0           0           0          0   \n",
       "\n",
       "   Title_Mr  Title_Mrs  Title_Ms  Title_Rev  Title_Sir  Title_the Countess  \\\n",
       "0         1          0         0          0          0                   0   \n",
       "1         0          1         0          0          0                   0   \n",
       "2         0          0         0          0          0                   0   \n",
       "3         0          1         0          0          0                   0   \n",
       "4         1          0         0          0          0                   0   \n",
       "\n",
       "   Embarked_C  Embarked_Q  Embarked_S  CabinCode_A  CabinCode_B  CabinCode_C  \\\n",
       "0           0           0           1            0            0            0   \n",
       "1           1           0           0            0            0            1   \n",
       "2           0           0           1            0            0            0   \n",
       "3           0           0           1            0            0            1   \n",
       "4           0           0           1            0            0            0   \n",
       "\n",
       "   CabinCode_D  CabinCode_E  CabinCode_F  CabinCode_G  CabinCode_T  \n",
       "0            0            1            0            0            0  \n",
       "1            0            0            0            0            0  \n",
       "2            0            0            1            0            0  \n",
       "3            0            0            0            0            0  \n",
       "4            0            0            1            0            0  "
      ]
     },
     "execution_count": 229,
     "metadata": {},
     "output_type": "execute_result"
    }
   ],
   "source": [
    "tr_data.head()"
   ]
  },
  {
   "cell_type": "code",
   "execution_count": 230,
   "metadata": {},
   "outputs": [],
   "source": [
    "from sklearn.ensemble import ExtraTreesClassifier, RandomForestClassifier\n",
    "from sklearn.model_selection import train_test_split\n",
    "from sklearn.naive_bayes import MultinomialNB\n",
    "from sklearn.pipeline import make_pipeline, make_union\n",
    "from tpot.builtins import StackingEstimator"
   ]
  },
  {
   "cell_type": "code",
   "execution_count": 231,
   "metadata": {},
   "outputs": [],
   "source": [
    "# NOTE: Make sure that the class is labeled 'target' in the data file\n",
    "#tpot_data = pd.read_csv('PATH/TO/DATA/FILE', sep='COLUMN_SEPARATOR', dtype=np.float64)\n",
    "X_pot = tr_data.drop('target', axis=1).values\n",
    "X_train, X_test, y_train, y_test = train_test_split(X_pot, tr_data['target'].values, random_state=59)\n",
    "\n",
    "# Average CV score on the training set was:0.8484640406513112\n",
    "exported_pipeline = make_pipeline(\n",
    "    StackingEstimator(estimator=RandomForestClassifier(bootstrap=True, criterion=\"entropy\", max_features=0.8500000000000001, min_samples_leaf=1, min_samples_split=18, n_estimators=100)),\n",
    "    ExtraTreesClassifier(bootstrap=True, criterion=\"entropy\", max_features=0.35000000000000003, min_samples_leaf=13, min_samples_split=6, n_estimators=100)\n",
    ")\n",
    "\n",
    "exported_pipeline.fit(X_train, y_train)\n",
    "results = exported_pipeline.predict(X_test)"
   ]
  },
  {
   "cell_type": "code",
   "execution_count": 232,
   "metadata": {},
   "outputs": [
    {
     "data": {
      "text/plain": [
       "0.7847533632286996"
      ]
     },
     "execution_count": 232,
     "metadata": {},
     "output_type": "execute_result"
    }
   ],
   "source": [
    "exported_pipeline.score(X_test, y_test)"
   ]
  },
  {
   "cell_type": "markdown",
   "metadata": {},
   "source": [
    "## Sklearn - Single tree"
   ]
  },
  {
   "cell_type": "code",
   "execution_count": 233,
   "metadata": {},
   "outputs": [],
   "source": [
    "import random\n",
    "from sklearn.metrics import mean_squared_error\n",
    "from sklearn import tree\n",
    "from sklearn.ensemble import RandomForestClassifier\n",
    "from sklearn.ensemble.gradient_boosting import GradientBoostingClassifier\n",
    "from sklearn.model_selection import StratifiedKFold\n",
    "from sklearn.model_selection import GridSearchCV\n",
    "#import xgboost as xgb\n",
    "#from sklearn.ensemble import ExtraTreesClassifier, RandomForestClassifier\n",
    "#from sklearn.model_selection import train_test_split\n",
    "from sklearn.naive_bayes import MultinomialNB\n",
    "from sklearn.pipeline import make_pipeline, make_union\n",
    "from tpot.builtins import StackingEstimator"
   ]
  },
  {
   "cell_type": "markdown",
   "metadata": {},
   "source": [
    "Building a single classifier decision tree with sklearn is easy. You have to provide the list of features that you want the decisions to be made on. Here we give the list of all the features that we have. The multiplication of features comes from the dummy encoding preprocessing that is need for sklearn."
   ]
  },
  {
   "cell_type": "code",
   "execution_count": 263,
   "metadata": {},
   "outputs": [],
   "source": [
    "titanic_tree = tree.DecisionTreeClassifier(max_depth = 10, min_samples_split = 5, random_state = 1)"
   ]
  },
  {
   "cell_type": "code",
   "execution_count": 264,
   "metadata": {},
   "outputs": [
    {
     "data": {
      "text/plain": [
       "DecisionTreeClassifier(class_weight=None, criterion='gini', max_depth=10,\n",
       "            max_features=None, max_leaf_nodes=None,\n",
       "            min_impurity_decrease=0.0, min_impurity_split=None,\n",
       "            min_samples_leaf=1, min_samples_split=5,\n",
       "            min_weight_fraction_leaf=0.0, presort=False, random_state=1,\n",
       "            splitter='best')"
      ]
     },
     "execution_count": 264,
     "metadata": {},
     "output_type": "execute_result"
    }
   ],
   "source": [
    "titanic_tree.fit(X_train, y_train)"
   ]
  },
  {
   "cell_type": "code",
   "execution_count": 265,
   "metadata": {},
   "outputs": [
    {
     "name": "stdout",
     "output_type": "stream",
     "text": [
      "Score of tree on train data:  0.7802690582959642\n"
     ]
    }
   ],
   "source": [
    "print(\"Score of tree on train data: \", titanic_tree.score(X_test, y_test))"
   ]
  },
  {
   "cell_type": "markdown",
   "metadata": {},
   "source": [
    "### Feature importance"
   ]
  },
  {
   "cell_type": "code",
   "execution_count": 603,
   "metadata": {},
   "outputs": [
    {
     "data": {
      "text/plain": [
       "Index(['Age', 'CabinCode_B', 'CabinCode_C', 'CabinCode_D', 'CabinCode_E',\n",
       "       'CabinCode_F', 'CabinCode_G', 'CabinCount', 'Embarked_Q', 'Embarked_S',\n",
       "       'FamilySize', 'Fare', 'Pclass_2', 'Pclass_3', 'Sex_male', 'TicketCount',\n",
       "       'TicketForOne', 'Title_Col', 'Title_Dr', 'Title_Jonkheer', 'Title_Lady',\n",
       "       'Title_Major', 'Title_Master', 'Title_Miss', 'Title_Mlle', 'Title_Mme',\n",
       "       'Title_Mr', 'Title_Mrs', 'Title_Ms', 'Title_Rev', 'Title_Sir',\n",
       "       'Title_the Countess', 'single'],\n",
       "      dtype='object')"
      ]
     },
     "execution_count": 603,
     "metadata": {},
     "output_type": "execute_result"
    }
   ],
   "source": [
    "X.columns"
   ]
  },
  {
   "cell_type": "code",
   "execution_count": 240,
   "metadata": {},
   "outputs": [
    {
     "data": {
      "text/plain": [
       "<matplotlib.axes._subplots.AxesSubplot at 0x26744621c18>"
      ]
     },
     "execution_count": 240,
     "metadata": {},
     "output_type": "execute_result"
    },
    {
     "data": {
      "image/png": "[encoded data removed]",
      "text/plain": [
       "<Figure size 1440x1440 with 1 Axes>"
      ]
     },
     "metadata": {
      "needs_background": "light"
     },
     "output_type": "display_data"
    }
   ],
   "source": [
    "features_imp = pd.DataFrame()\n",
    "features_imp['feature'] = list(X.columns)\n",
    "features_imp['importance'] = titanic_tree.feature_importances_\n",
    "features_imp.sort_values(by=['importance'], ascending=True, inplace=True)\n",
    "features_imp.set_index('feature', inplace=True)\n",
    "features_imp.plot(kind='barh', figsize=(20, 20))"
   ]
  },
  {
   "cell_type": "markdown",
   "metadata": {},
   "source": [
    "## Random Forest"
   ]
  },
  {
   "cell_type": "markdown",
   "metadata": {},
   "source": [
    "Random forest\n",
    "Instead of getting a decision from one tree, it is possible to get the answer from a panel of trees, that is to say a forest. Each tree in the forest is different and is built around a sample of features. It is always better to get an answer from a diverse jury and this way overfitting is limited."
   ]
  },
  {
   "cell_type": "code",
   "execution_count": 241,
   "metadata": {},
   "outputs": [],
   "source": [
    "# The forest will have 50 trees \n",
    "# and the max number of features by trees is the square root of the total features number\n",
    "my_forest = RandomForestClassifier(n_estimators=50, max_features='sqrt')\n",
    "my_forest = my_forest.fit(X_train, y_train)"
   ]
  },
  {
   "cell_type": "code",
   "execution_count": 242,
   "metadata": {},
   "outputs": [
    {
     "data": {
      "text/plain": [
       "<matplotlib.axes._subplots.AxesSubplot at 0x26744cbb3c8>"
      ]
     },
     "execution_count": 242,
     "metadata": {},
     "output_type": "execute_result"
    },
    {
     "data": {
      "image/png": "[encoded data removed]",
      "text/plain": [
       "<Figure size 1440x1440 with 1 Axes>"
      ]
     },
     "metadata": {
      "needs_background": "light"
     },
     "output_type": "display_data"
    }
   ],
   "source": [
    "features_imp = pd.DataFrame()\n",
    "features_imp['feature'] = list(X.columns)\n",
    "features_imp['importance'] = my_forest.feature_importances_\n",
    "features_imp.sort_values(by=['importance'], ascending=True, inplace=True)\n",
    "features_imp.set_index('feature', inplace=True)\n",
    "features_imp.plot(kind='barh', figsize=(20, 20))"
   ]
  },
  {
   "cell_type": "code",
   "execution_count": 244,
   "metadata": {},
   "outputs": [
    {
     "name": "stdout",
     "output_type": "stream",
     "text": [
      "Score of forest on train data:  0.7668161434977578\n"
     ]
    }
   ],
   "source": [
    "print(\"Score of forest on train data: \", my_forest.score(X_test, y_test))\n",
    "\n",
    "#tr_data[\"eval_forest\"] = my_forest.predict(X_test)\n",
    "\n",
    "#rmse_tree = np.sqrt(mean_squared_error(tr_data[\"target\"], tr_data[\"eval_forest\"]))\n",
    "#print(\"RMSE:\", rmse_tree)"
   ]
  },
  {
   "cell_type": "markdown",
   "metadata": {},
   "source": [
    "## Decision Tree"
   ]
  },
  {
   "cell_type": "code",
   "execution_count": 245,
   "metadata": {},
   "outputs": [
    {
     "data": {
      "text/plain": [
       "DecisionTreeClassifier(class_weight=None, criterion='gini', max_depth=None,\n",
       "            max_features=None, max_leaf_nodes=None,\n",
       "            min_impurity_decrease=0.0, min_impurity_split=None,\n",
       "            min_samples_leaf=1, min_samples_split=2,\n",
       "            min_weight_fraction_leaf=0.0, presort=False, random_state=None,\n",
       "            splitter='best')"
      ]
     },
     "execution_count": 245,
     "metadata": {},
     "output_type": "execute_result"
    }
   ],
   "source": [
    "from sklearn.tree import DecisionTreeClassifier\n",
    "\n",
    "#Create classifier object with default hyperparameters\n",
    "clf = DecisionTreeClassifier()  \n",
    "\n",
    "#Fit our classifier using the training features and the training target values\n",
    "clf.fit(X_train, y_train) "
   ]
  },
  {
   "cell_type": "code",
   "execution_count": 246,
   "metadata": {},
   "outputs": [],
   "source": [
    "predictions = clf.predict(X_test)"
   ]
  },
  {
   "cell_type": "code",
   "execution_count": 247,
   "metadata": {},
   "outputs": [
    {
     "data": {
      "text/plain": [
       "0.7399103139013453"
      ]
     },
     "execution_count": 247,
     "metadata": {},
     "output_type": "execute_result"
    }
   ],
   "source": [
    "clf.score(X_test, y_test)"
   ]
  },
  {
   "cell_type": "code",
   "execution_count": null,
   "metadata": {},
   "outputs": [],
   "source": [
    "#sur_title = y.groupby([\"Surname\"])\n",
    "#for surname, sur_grp in sur_title:\n",
    "#    print(\"\\nFamily: {}\".format(surname))\n",
    "#    \n",
    "#    for row_index, row in sur_grp.iterrows():\n",
    "#        title = row[\"Title\"]\n",
    "#        age = \"Not Known\" if  np.isnan(row[\"Age\"]) else row[\"Age\"]\n",
    "#        print(\"\\t{} {} {}\".format(title, age, len(sur_grp)))"
   ]
  },
  {
   "cell_type": "code",
   "execution_count": null,
   "metadata": {},
   "outputs": [],
   "source": [
    "#for surname, sur_grp in sur_title:\n",
    "#    if surname in can_impute:\n",
    "#        to_use[surname] = {}\n",
    "#        to_fill[surname] = {}\n",
    "#        for row_index, row in sur_grp.iterrows():\n",
    "#            if np.isnan(row[\"Age\"]):\n",
    "#                to_fill[surname][row[\"Title\"]] = [0, row_index]\n",
    "#            else:\n",
    "#                to_use[surname][row[\"Title\"]] = row[\"Age\"]"
   ]
  }
 ],
 "metadata": {
  "kernelspec": {
   "display_name": "Python 3",
   "language": "python",
   "name": "python3"
  },
  "language_info": {
   "codemirror_mode": {
    "name": "ipython",
    "version": 3
   },
   "file_extension": ".py",
   "mimetype": "text/x-python",
   "name": "python",
   "nbconvert_exporter": "python",
   "pygments_lexer": "ipython3",
   "version": "3.8.2"
  },
  "toc": {
   "base_numbering": 1,
   "nav_menu": {},
   "number_sections": true,
   "sideBar": true,
   "skip_h1_title": false,
   "title_cell": "Table of Contents",
   "title_sidebar": "Contents",
   "toc_cell": false,
   "toc_position": {
    "height": "calc(100% - 180px)",
    "left": "10px",
    "top": "150px",
    "width": "254.2px"
   },
   "toc_section_display": true,
   "toc_window_display": true
  }
 },
 "nbformat": 4,
 "nbformat_minor": 2
}
