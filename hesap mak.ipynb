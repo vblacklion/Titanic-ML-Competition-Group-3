{
 "cells": [
  {
   "cell_type": "code",
   "execution_count": 1,
   "metadata": {},
   "outputs": [],
   "source": [
    "def topla(a,b):\n",
    "\n",
    "    return a+b"
   ]
  },
  {
   "cell_type": "code",
   "execution_count": 2,
   "metadata": {},
   "outputs": [],
   "source": [
    "def multiply(a,b):\n",
    "    return a*b"
   ]
  },
  {
   "cell_type": "code",
   "execution_count": 3,
   "metadata": {},
   "outputs": [],
   "source": [
    "def divide(a, b):\n",
    "    \n",
    "    try:\n",
    "        result = a/float(b)\n",
    "        return result\n",
    "    except ZeroDivisionError:\n",
    "        print(\"'0' a bölünme hatası\")"
   ]
  },
  {
   "cell_type": "code",
   "execution_count": 4,
   "metadata": {},
   "outputs": [],
   "source": [
    "def eksilt(a,b):\n",
    "    return a-b"
   ]
  },
  {
   "cell_type": "code",
   "execution_count": 5,
   "metadata": {},
   "outputs": [],
   "source": [
    "def hesap_mak():\n",
    "    \"\"\"\n",
    "    Kullanıcının seçtiği 4 temel işlemi iki sayı arasında icra ederek sonucunu ekrana yazdırır.\n",
    "    \n",
    "    \"\"\"\n",
    "    \n",
    "    print(\"Lütfen yapmak istediğiniz işlemi seçiniz...:\")\n",
    "    print(\"t : toplama\\ne : çıkarma\\nç : çarpma\\nb : bölme\")\n",
    "    islem = input(\"seçilen işlem :\")\n",
    "    durum = False\n",
    "    while durum == False:\n",
    "        if islem not in [\"t\", \"e\", \"ç\", \"b\"]:\n",
    "            print(\"Lütfen geçerli bir seçenek giriniz\")\n",
    "            islem = input(\"seçilen işlem :\")\n",
    "            \n",
    "        else:\n",
    "            try:\n",
    "                a = float(input(\"Lütfen ilk sayıyı giriniz...   :\"))\n",
    "                b = float(input(\"Lütfen ikinci sayıyı giriniz...:\"))\n",
    "                durum = True\n",
    "            except ValueError:\n",
    "                print(\"Lütfen geçerli bir sayı giriniz!!!\")\n",
    "                \n",
    "                \n",
    "\n",
    "    if islem == \"t\":\n",
    "        return topla(a,b)\n",
    "    \n",
    "    elif islem == \"e\":\n",
    "        return eksilt(a,b)\n",
    "        \n",
    "    elif islem == \"ç\":\n",
    "        return multiply(a,b)\n",
    "        \n",
    "    else:\n",
    "        return divide(a, b)"
   ]
  },
  {
   "cell_type": "code",
   "execution_count": 6,
   "metadata": {},
   "outputs": [
    {
     "name": "stdout",
     "output_type": "stream",
     "text": [
      "Lütfen yapmak istediğiniz işlemi seçiniz...:\n",
      "t : toplama\n",
      "e : çıkarma\n",
      "ç : çarpma\n",
      "b : bölme\n",
      "seçilen işlem :b\n",
      "Lütfen ilk sayıyı giriniz...   :10\n",
      "Lütfen ikinci sayıyı giriniz...:0\n",
      "'0' a bölünme hatası\n"
     ]
    }
   ],
   "source": [
    "hesap_mak()"
   ]
  },
  {
   "cell_type": "code",
   "execution_count": null,
   "metadata": {},
   "outputs": [],
   "source": []
  }
 ],
 "metadata": {
  "kernelspec": {
   "display_name": "Python 3",
   "language": "python",
   "name": "python3"
  },
  "language_info": {
   "codemirror_mode": {
    "name": "ipython",
    "version": 3
   },
   "file_extension": ".py",
   "mimetype": "text/x-python",
   "name": "python",
   "nbconvert_exporter": "python",
   "pygments_lexer": "ipython3",
   "version": "3.8.2"
  }
 },
 "nbformat": 4,
 "nbformat_minor": 4
}
